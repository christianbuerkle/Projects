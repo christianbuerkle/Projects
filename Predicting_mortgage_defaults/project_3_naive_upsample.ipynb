{
 "cells": [
  {
   "cell_type": "code",
   "execution_count": 1,
   "metadata": {},
   "outputs": [],
   "source": [
    "import pandas as pd\n",
    "import pandas as pd\n",
    "import numpy as np\n",
    "\n",
    "import matplotlib.pyplot as plt\n",
    "import seaborn as sns\n",
    "plt.style.use('ggplot')\n",
    "\n",
    "%matplotlib inline\n",
    "\n",
    "from sklearn.linear_model import LogisticRegression\n",
    "from sklearn.model_selection import train_test_split\n",
    "from sklearn.metrics import precision_score, recall_score, accuracy_score, roc_auc_score\n",
    "from sklearn.metrics import confusion_matrix\n",
    "from sklearn.preprocessing import StandardScaler\n",
    "from sklearn.linear_model import LogisticRegression\n",
    "from sklearn.metrics import f1_score, roc_auc_score\n",
    "\n"
   ]
  },
  {
   "cell_type": "markdown",
   "metadata": {},
   "source": [
    "# Naive Upsample Model"
   ]
  },
  {
   "cell_type": "code",
   "execution_count": 2,
   "metadata": {},
   "outputs": [],
   "source": [
    "df = pd.read_csv('mortgage.csv')"
   ]
  },
  {
   "cell_type": "code",
   "execution_count": 3,
   "metadata": {},
   "outputs": [
    {
     "data": {
      "text/plain": [
       "id                           0\n",
       "time                         0\n",
       "orig_time                    0\n",
       "first_time                   0\n",
       "mat_time                     0\n",
       "balance_time                 0\n",
       "LTV_time                   270\n",
       "interest_rate_time           0\n",
       "hpi_time                     0\n",
       "gdp_time                     0\n",
       "uer_time                     0\n",
       "REtype_CO_orig_time          0\n",
       "REtype_PU_orig_time          0\n",
       "REtype_SF_orig_time          0\n",
       "investor_orig_time           0\n",
       "balance_orig_time            0\n",
       "FICO_orig_time               0\n",
       "LTV_orig_time                0\n",
       "Interest_Rate_orig_time      0\n",
       "hpi_orig_time                0\n",
       "default_time                 0\n",
       "payoff_time                  0\n",
       "status_time                  0\n",
       "dtype: int64"
      ]
     },
     "execution_count": 3,
     "metadata": {},
     "output_type": "execute_result"
    }
   ],
   "source": [
    "df.isna().sum()"
   ]
  },
  {
   "cell_type": "code",
   "execution_count": 4,
   "metadata": {},
   "outputs": [],
   "source": [
    "#drop rows with null values, only 270/600K and represents proportionate amount of delinquent loans\n",
    "df = df.dropna()"
   ]
  },
  {
   "cell_type": "code",
   "execution_count": 5,
   "metadata": {},
   "outputs": [],
   "source": [
    "df['default'] = df['default_time']"
   ]
  },
  {
   "cell_type": "code",
   "execution_count": 6,
   "metadata": {},
   "outputs": [],
   "source": [
    "del df['default_time']"
   ]
  },
  {
   "cell_type": "code",
   "execution_count": 7,
   "metadata": {},
   "outputs": [
    {
     "data": {
      "text/html": [
       "<div>\n",
       "<style scoped>\n",
       "    .dataframe tbody tr th:only-of-type {\n",
       "        vertical-align: middle;\n",
       "    }\n",
       "\n",
       "    .dataframe tbody tr th {\n",
       "        vertical-align: top;\n",
       "    }\n",
       "\n",
       "    .dataframe thead th {\n",
       "        text-align: right;\n",
       "    }\n",
       "</style>\n",
       "<table border=\"1\" class=\"dataframe\">\n",
       "  <thead>\n",
       "    <tr style=\"text-align: right;\">\n",
       "      <th></th>\n",
       "      <th>id</th>\n",
       "      <th>time</th>\n",
       "      <th>orig_time</th>\n",
       "      <th>first_time</th>\n",
       "      <th>mat_time</th>\n",
       "      <th>balance_time</th>\n",
       "      <th>LTV_time</th>\n",
       "      <th>interest_rate_time</th>\n",
       "      <th>hpi_time</th>\n",
       "      <th>gdp_time</th>\n",
       "      <th>...</th>\n",
       "      <th>REtype_SF_orig_time</th>\n",
       "      <th>investor_orig_time</th>\n",
       "      <th>balance_orig_time</th>\n",
       "      <th>FICO_orig_time</th>\n",
       "      <th>LTV_orig_time</th>\n",
       "      <th>Interest_Rate_orig_time</th>\n",
       "      <th>hpi_orig_time</th>\n",
       "      <th>payoff_time</th>\n",
       "      <th>status_time</th>\n",
       "      <th>default</th>\n",
       "    </tr>\n",
       "  </thead>\n",
       "  <tbody>\n",
       "    <tr>\n",
       "      <th>0</th>\n",
       "      <td>1</td>\n",
       "      <td>25</td>\n",
       "      <td>-7</td>\n",
       "      <td>25</td>\n",
       "      <td>113</td>\n",
       "      <td>41303.42</td>\n",
       "      <td>24.498336</td>\n",
       "      <td>9.2</td>\n",
       "      <td>226.29</td>\n",
       "      <td>2.899137</td>\n",
       "      <td>...</td>\n",
       "      <td>1</td>\n",
       "      <td>0</td>\n",
       "      <td>45000.0</td>\n",
       "      <td>715</td>\n",
       "      <td>69.4</td>\n",
       "      <td>9.2</td>\n",
       "      <td>87.03</td>\n",
       "      <td>0</td>\n",
       "      <td>0</td>\n",
       "      <td>0</td>\n",
       "    </tr>\n",
       "    <tr>\n",
       "      <th>1</th>\n",
       "      <td>1</td>\n",
       "      <td>26</td>\n",
       "      <td>-7</td>\n",
       "      <td>25</td>\n",
       "      <td>113</td>\n",
       "      <td>41061.95</td>\n",
       "      <td>24.483867</td>\n",
       "      <td>9.2</td>\n",
       "      <td>225.10</td>\n",
       "      <td>2.151365</td>\n",
       "      <td>...</td>\n",
       "      <td>1</td>\n",
       "      <td>0</td>\n",
       "      <td>45000.0</td>\n",
       "      <td>715</td>\n",
       "      <td>69.4</td>\n",
       "      <td>9.2</td>\n",
       "      <td>87.03</td>\n",
       "      <td>0</td>\n",
       "      <td>0</td>\n",
       "      <td>0</td>\n",
       "    </tr>\n",
       "    <tr>\n",
       "      <th>2</th>\n",
       "      <td>1</td>\n",
       "      <td>27</td>\n",
       "      <td>-7</td>\n",
       "      <td>25</td>\n",
       "      <td>113</td>\n",
       "      <td>40804.42</td>\n",
       "      <td>24.626795</td>\n",
       "      <td>9.2</td>\n",
       "      <td>222.39</td>\n",
       "      <td>2.361722</td>\n",
       "      <td>...</td>\n",
       "      <td>1</td>\n",
       "      <td>0</td>\n",
       "      <td>45000.0</td>\n",
       "      <td>715</td>\n",
       "      <td>69.4</td>\n",
       "      <td>9.2</td>\n",
       "      <td>87.03</td>\n",
       "      <td>0</td>\n",
       "      <td>0</td>\n",
       "      <td>0</td>\n",
       "    </tr>\n",
       "    <tr>\n",
       "      <th>3</th>\n",
       "      <td>1</td>\n",
       "      <td>28</td>\n",
       "      <td>-7</td>\n",
       "      <td>25</td>\n",
       "      <td>113</td>\n",
       "      <td>40483.89</td>\n",
       "      <td>24.735883</td>\n",
       "      <td>9.2</td>\n",
       "      <td>219.67</td>\n",
       "      <td>1.229172</td>\n",
       "      <td>...</td>\n",
       "      <td>1</td>\n",
       "      <td>0</td>\n",
       "      <td>45000.0</td>\n",
       "      <td>715</td>\n",
       "      <td>69.4</td>\n",
       "      <td>9.2</td>\n",
       "      <td>87.03</td>\n",
       "      <td>0</td>\n",
       "      <td>0</td>\n",
       "      <td>0</td>\n",
       "    </tr>\n",
       "    <tr>\n",
       "      <th>4</th>\n",
       "      <td>1</td>\n",
       "      <td>29</td>\n",
       "      <td>-7</td>\n",
       "      <td>25</td>\n",
       "      <td>113</td>\n",
       "      <td>40367.06</td>\n",
       "      <td>24.925476</td>\n",
       "      <td>9.2</td>\n",
       "      <td>217.37</td>\n",
       "      <td>1.692969</td>\n",
       "      <td>...</td>\n",
       "      <td>1</td>\n",
       "      <td>0</td>\n",
       "      <td>45000.0</td>\n",
       "      <td>715</td>\n",
       "      <td>69.4</td>\n",
       "      <td>9.2</td>\n",
       "      <td>87.03</td>\n",
       "      <td>0</td>\n",
       "      <td>0</td>\n",
       "      <td>0</td>\n",
       "    </tr>\n",
       "  </tbody>\n",
       "</table>\n",
       "<p>5 rows × 23 columns</p>\n",
       "</div>"
      ],
      "text/plain": [
       "   id  time  orig_time  first_time  mat_time  balance_time   LTV_time  \\\n",
       "0   1    25         -7          25       113      41303.42  24.498336   \n",
       "1   1    26         -7          25       113      41061.95  24.483867   \n",
       "2   1    27         -7          25       113      40804.42  24.626795   \n",
       "3   1    28         -7          25       113      40483.89  24.735883   \n",
       "4   1    29         -7          25       113      40367.06  24.925476   \n",
       "\n",
       "   interest_rate_time  hpi_time  gdp_time   ...     REtype_SF_orig_time  \\\n",
       "0                 9.2    226.29  2.899137   ...                       1   \n",
       "1                 9.2    225.10  2.151365   ...                       1   \n",
       "2                 9.2    222.39  2.361722   ...                       1   \n",
       "3                 9.2    219.67  1.229172   ...                       1   \n",
       "4                 9.2    217.37  1.692969   ...                       1   \n",
       "\n",
       "   investor_orig_time  balance_orig_time  FICO_orig_time  LTV_orig_time  \\\n",
       "0                   0            45000.0             715           69.4   \n",
       "1                   0            45000.0             715           69.4   \n",
       "2                   0            45000.0             715           69.4   \n",
       "3                   0            45000.0             715           69.4   \n",
       "4                   0            45000.0             715           69.4   \n",
       "\n",
       "   Interest_Rate_orig_time  hpi_orig_time  payoff_time  status_time  default  \n",
       "0                      9.2          87.03            0            0        0  \n",
       "1                      9.2          87.03            0            0        0  \n",
       "2                      9.2          87.03            0            0        0  \n",
       "3                      9.2          87.03            0            0        0  \n",
       "4                      9.2          87.03            0            0        0  \n",
       "\n",
       "[5 rows x 23 columns]"
      ]
     },
     "execution_count": 7,
     "metadata": {},
     "output_type": "execute_result"
    }
   ],
   "source": [
    "df.head()"
   ]
  },
  {
   "cell_type": "code",
   "execution_count": 8,
   "metadata": {},
   "outputs": [
    {
     "data": {
      "text/html": [
       "<div>\n",
       "<style scoped>\n",
       "    .dataframe tbody tr th:only-of-type {\n",
       "        vertical-align: middle;\n",
       "    }\n",
       "\n",
       "    .dataframe tbody tr th {\n",
       "        vertical-align: top;\n",
       "    }\n",
       "\n",
       "    .dataframe thead th {\n",
       "        text-align: right;\n",
       "    }\n",
       "</style>\n",
       "<table border=\"1\" class=\"dataframe\">\n",
       "  <thead>\n",
       "    <tr style=\"text-align: right;\">\n",
       "      <th></th>\n",
       "      <th>id</th>\n",
       "      <th>time</th>\n",
       "      <th>orig_time</th>\n",
       "      <th>first_time</th>\n",
       "      <th>mat_time</th>\n",
       "      <th>balance_time</th>\n",
       "      <th>LTV_time</th>\n",
       "      <th>interest_rate_time</th>\n",
       "      <th>hpi_time</th>\n",
       "      <th>gdp_time</th>\n",
       "      <th>...</th>\n",
       "      <th>REtype_SF_orig_time</th>\n",
       "      <th>investor_orig_time</th>\n",
       "      <th>balance_orig_time</th>\n",
       "      <th>FICO_orig_time</th>\n",
       "      <th>LTV_orig_time</th>\n",
       "      <th>Interest_Rate_orig_time</th>\n",
       "      <th>hpi_orig_time</th>\n",
       "      <th>payoff_time</th>\n",
       "      <th>status_time</th>\n",
       "      <th>default</th>\n",
       "    </tr>\n",
       "  </thead>\n",
       "  <tbody>\n",
       "    <tr>\n",
       "      <th>count</th>\n",
       "      <td>622219.000000</td>\n",
       "      <td>622219.000000</td>\n",
       "      <td>622219.000000</td>\n",
       "      <td>622219.000000</td>\n",
       "      <td>622219.000000</td>\n",
       "      <td>6.222190e+05</td>\n",
       "      <td>622219.000000</td>\n",
       "      <td>622219.000000</td>\n",
       "      <td>622219.000000</td>\n",
       "      <td>622219.000000</td>\n",
       "      <td>...</td>\n",
       "      <td>622219.000000</td>\n",
       "      <td>622219.000000</td>\n",
       "      <td>6.222190e+05</td>\n",
       "      <td>622219.000000</td>\n",
       "      <td>622219.000000</td>\n",
       "      <td>622219.000000</td>\n",
       "      <td>622219.000000</td>\n",
       "      <td>622219.000000</td>\n",
       "      <td>622219.000000</td>\n",
       "      <td>622219.000000</td>\n",
       "    </tr>\n",
       "    <tr>\n",
       "      <th>mean</th>\n",
       "      <td>25141.021848</td>\n",
       "      <td>35.799309</td>\n",
       "      <td>20.576450</td>\n",
       "      <td>24.606801</td>\n",
       "      <td>137.213671</td>\n",
       "      <td>2.460523e+05</td>\n",
       "      <td>83.078239</td>\n",
       "      <td>6.700836</td>\n",
       "      <td>184.102317</td>\n",
       "      <td>1.381058</td>\n",
       "      <td>...</td>\n",
       "      <td>0.611904</td>\n",
       "      <td>0.138286</td>\n",
       "      <td>2.563651e+05</td>\n",
       "      <td>673.668734</td>\n",
       "      <td>78.976433</td>\n",
       "      <td>5.650538</td>\n",
       "      <td>198.148398</td>\n",
       "      <td>0.042721</td>\n",
       "      <td>0.109796</td>\n",
       "      <td>0.024353</td>\n",
       "    </tr>\n",
       "    <tr>\n",
       "      <th>std</th>\n",
       "      <td>13749.623014</td>\n",
       "      <td>11.580002</td>\n",
       "      <td>7.610427</td>\n",
       "      <td>6.739667</td>\n",
       "      <td>19.530448</td>\n",
       "      <td>2.141613e+05</td>\n",
       "      <td>24.968839</td>\n",
       "      <td>2.077520</td>\n",
       "      <td>27.650825</td>\n",
       "      <td>1.964707</td>\n",
       "      <td>...</td>\n",
       "      <td>0.487317</td>\n",
       "      <td>0.345200</td>\n",
       "      <td>2.197009e+05</td>\n",
       "      <td>71.690396</td>\n",
       "      <td>10.127634</td>\n",
       "      <td>2.976440</td>\n",
       "      <td>33.934437</td>\n",
       "      <td>0.202228</td>\n",
       "      <td>0.427999</td>\n",
       "      <td>0.154143</td>\n",
       "    </tr>\n",
       "    <tr>\n",
       "      <th>min</th>\n",
       "      <td>1.000000</td>\n",
       "      <td>1.000000</td>\n",
       "      <td>-40.000000</td>\n",
       "      <td>1.000000</td>\n",
       "      <td>18.000000</td>\n",
       "      <td>0.000000e+00</td>\n",
       "      <td>0.000000</td>\n",
       "      <td>0.000000</td>\n",
       "      <td>107.830000</td>\n",
       "      <td>-4.146711</td>\n",
       "      <td>...</td>\n",
       "      <td>0.000000</td>\n",
       "      <td>0.000000</td>\n",
       "      <td>4.791500e+03</td>\n",
       "      <td>400.000000</td>\n",
       "      <td>50.100000</td>\n",
       "      <td>0.000000</td>\n",
       "      <td>75.710000</td>\n",
       "      <td>0.000000</td>\n",
       "      <td>0.000000</td>\n",
       "      <td>0.000000</td>\n",
       "    </tr>\n",
       "    <tr>\n",
       "      <th>25%</th>\n",
       "      <td>13577.000000</td>\n",
       "      <td>27.000000</td>\n",
       "      <td>18.000000</td>\n",
       "      <td>21.000000</td>\n",
       "      <td>137.000000</td>\n",
       "      <td>1.021175e+05</td>\n",
       "      <td>67.109446</td>\n",
       "      <td>5.650000</td>\n",
       "      <td>158.600000</td>\n",
       "      <td>1.104163</td>\n",
       "      <td>...</td>\n",
       "      <td>0.000000</td>\n",
       "      <td>0.000000</td>\n",
       "      <td>1.080000e+05</td>\n",
       "      <td>626.000000</td>\n",
       "      <td>75.000000</td>\n",
       "      <td>5.000000</td>\n",
       "      <td>179.450000</td>\n",
       "      <td>0.000000</td>\n",
       "      <td>0.000000</td>\n",
       "      <td>0.000000</td>\n",
       "    </tr>\n",
       "    <tr>\n",
       "      <th>50%</th>\n",
       "      <td>24873.000000</td>\n",
       "      <td>34.000000</td>\n",
       "      <td>22.000000</td>\n",
       "      <td>25.000000</td>\n",
       "      <td>142.000000</td>\n",
       "      <td>1.807573e+05</td>\n",
       "      <td>82.253269</td>\n",
       "      <td>6.625000</td>\n",
       "      <td>180.520000</td>\n",
       "      <td>1.850689</td>\n",
       "      <td>...</td>\n",
       "      <td>1.000000</td>\n",
       "      <td>0.000000</td>\n",
       "      <td>1.880000e+05</td>\n",
       "      <td>678.000000</td>\n",
       "      <td>80.000000</td>\n",
       "      <td>6.290000</td>\n",
       "      <td>216.770000</td>\n",
       "      <td>0.000000</td>\n",
       "      <td>0.000000</td>\n",
       "      <td>0.000000</td>\n",
       "    </tr>\n",
       "    <tr>\n",
       "      <th>75%</th>\n",
       "      <td>37038.000000</td>\n",
       "      <td>44.000000</td>\n",
       "      <td>25.000000</td>\n",
       "      <td>28.000000</td>\n",
       "      <td>145.000000</td>\n",
       "      <td>3.375570e+05</td>\n",
       "      <td>100.634381</td>\n",
       "      <td>7.875000</td>\n",
       "      <td>212.730000</td>\n",
       "      <td>2.694111</td>\n",
       "      <td>...</td>\n",
       "      <td>1.000000</td>\n",
       "      <td>0.000000</td>\n",
       "      <td>3.520000e+05</td>\n",
       "      <td>729.000000</td>\n",
       "      <td>80.000000</td>\n",
       "      <td>7.451500</td>\n",
       "      <td>222.390000</td>\n",
       "      <td>0.000000</td>\n",
       "      <td>0.000000</td>\n",
       "      <td>0.000000</td>\n",
       "    </tr>\n",
       "    <tr>\n",
       "      <th>max</th>\n",
       "      <td>50000.000000</td>\n",
       "      <td>60.000000</td>\n",
       "      <td>60.000000</td>\n",
       "      <td>60.000000</td>\n",
       "      <td>229.000000</td>\n",
       "      <td>8.701859e+06</td>\n",
       "      <td>803.513550</td>\n",
       "      <td>37.500000</td>\n",
       "      <td>226.290000</td>\n",
       "      <td>5.132464</td>\n",
       "      <td>...</td>\n",
       "      <td>1.000000</td>\n",
       "      <td>1.000000</td>\n",
       "      <td>8.000000e+06</td>\n",
       "      <td>840.000000</td>\n",
       "      <td>218.500000</td>\n",
       "      <td>19.750000</td>\n",
       "      <td>226.290000</td>\n",
       "      <td>1.000000</td>\n",
       "      <td>2.000000</td>\n",
       "      <td>1.000000</td>\n",
       "    </tr>\n",
       "  </tbody>\n",
       "</table>\n",
       "<p>8 rows × 23 columns</p>\n",
       "</div>"
      ],
      "text/plain": [
       "                  id           time      orig_time     first_time  \\\n",
       "count  622219.000000  622219.000000  622219.000000  622219.000000   \n",
       "mean    25141.021848      35.799309      20.576450      24.606801   \n",
       "std     13749.623014      11.580002       7.610427       6.739667   \n",
       "min         1.000000       1.000000     -40.000000       1.000000   \n",
       "25%     13577.000000      27.000000      18.000000      21.000000   \n",
       "50%     24873.000000      34.000000      22.000000      25.000000   \n",
       "75%     37038.000000      44.000000      25.000000      28.000000   \n",
       "max     50000.000000      60.000000      60.000000      60.000000   \n",
       "\n",
       "            mat_time  balance_time       LTV_time  interest_rate_time  \\\n",
       "count  622219.000000  6.222190e+05  622219.000000       622219.000000   \n",
       "mean      137.213671  2.460523e+05      83.078239            6.700836   \n",
       "std        19.530448  2.141613e+05      24.968839            2.077520   \n",
       "min        18.000000  0.000000e+00       0.000000            0.000000   \n",
       "25%       137.000000  1.021175e+05      67.109446            5.650000   \n",
       "50%       142.000000  1.807573e+05      82.253269            6.625000   \n",
       "75%       145.000000  3.375570e+05     100.634381            7.875000   \n",
       "max       229.000000  8.701859e+06     803.513550           37.500000   \n",
       "\n",
       "            hpi_time       gdp_time      ...        REtype_SF_orig_time  \\\n",
       "count  622219.000000  622219.000000      ...              622219.000000   \n",
       "mean      184.102317       1.381058      ...                   0.611904   \n",
       "std        27.650825       1.964707      ...                   0.487317   \n",
       "min       107.830000      -4.146711      ...                   0.000000   \n",
       "25%       158.600000       1.104163      ...                   0.000000   \n",
       "50%       180.520000       1.850689      ...                   1.000000   \n",
       "75%       212.730000       2.694111      ...                   1.000000   \n",
       "max       226.290000       5.132464      ...                   1.000000   \n",
       "\n",
       "       investor_orig_time  balance_orig_time  FICO_orig_time  LTV_orig_time  \\\n",
       "count       622219.000000       6.222190e+05   622219.000000  622219.000000   \n",
       "mean             0.138286       2.563651e+05      673.668734      78.976433   \n",
       "std              0.345200       2.197009e+05       71.690396      10.127634   \n",
       "min              0.000000       4.791500e+03      400.000000      50.100000   \n",
       "25%              0.000000       1.080000e+05      626.000000      75.000000   \n",
       "50%              0.000000       1.880000e+05      678.000000      80.000000   \n",
       "75%              0.000000       3.520000e+05      729.000000      80.000000   \n",
       "max              1.000000       8.000000e+06      840.000000     218.500000   \n",
       "\n",
       "       Interest_Rate_orig_time  hpi_orig_time    payoff_time    status_time  \\\n",
       "count            622219.000000  622219.000000  622219.000000  622219.000000   \n",
       "mean                  5.650538     198.148398       0.042721       0.109796   \n",
       "std                   2.976440      33.934437       0.202228       0.427999   \n",
       "min                   0.000000      75.710000       0.000000       0.000000   \n",
       "25%                   5.000000     179.450000       0.000000       0.000000   \n",
       "50%                   6.290000     216.770000       0.000000       0.000000   \n",
       "75%                   7.451500     222.390000       0.000000       0.000000   \n",
       "max                  19.750000     226.290000       1.000000       2.000000   \n",
       "\n",
       "             default  \n",
       "count  622219.000000  \n",
       "mean        0.024353  \n",
       "std         0.154143  \n",
       "min         0.000000  \n",
       "25%         0.000000  \n",
       "50%         0.000000  \n",
       "75%         0.000000  \n",
       "max         1.000000  \n",
       "\n",
       "[8 rows x 23 columns]"
      ]
     },
     "execution_count": 8,
     "metadata": {},
     "output_type": "execute_result"
    }
   ],
   "source": [
    "df.describe()"
   ]
  },
  {
   "cell_type": "code",
   "execution_count": 9,
   "metadata": {},
   "outputs": [],
   "source": [
    "#split data between trainin and testing sets to maintain blind testing\n",
    "X_train, X_test, y_train, y_test = train_test_split(df.iloc[:, :22], df.iloc[:, 22], \n",
    "                                                    test_size = 0.2, random_state=42)"
   ]
  },
  {
   "cell_type": "code",
   "execution_count": 10,
   "metadata": {},
   "outputs": [
    {
     "name": "stdout",
     "output_type": "stream",
     "text": [
      "Requirement already satisfied: imblearn in /Users/christianbuerkle/anaconda3/lib/python3.7/site-packages (0.0)\n",
      "Requirement already satisfied: imbalanced-learn in /Users/christianbuerkle/anaconda3/lib/python3.7/site-packages (from imblearn) (0.4.3)\n",
      "Requirement already satisfied: scikit-learn>=0.20 in /Users/christianbuerkle/anaconda3/lib/python3.7/site-packages (from imbalanced-learn->imblearn) (0.20.1)\n",
      "Requirement already satisfied: numpy>=1.8.2 in /Users/christianbuerkle/anaconda3/lib/python3.7/site-packages (from imbalanced-learn->imblearn) (1.15.4)\n",
      "Requirement already satisfied: scipy>=0.13.3 in /Users/christianbuerkle/anaconda3/lib/python3.7/site-packages (from imbalanced-learn->imblearn) (1.1.0)\n"
     ]
    }
   ],
   "source": [
    "!pip install imblearn"
   ]
  },
  {
   "cell_type": "code",
   "execution_count": 11,
   "metadata": {},
   "outputs": [],
   "source": [
    "import imblearn.over_sampling"
   ]
  },
  {
   "cell_type": "code",
   "execution_count": 12,
   "metadata": {},
   "outputs": [
    {
     "data": {
      "text/plain": [
       "0    485727\n",
       "1     12048\n",
       "Name: default, dtype: int64"
      ]
     },
     "execution_count": 12,
     "metadata": {},
     "output_type": "execute_result"
    }
   ],
   "source": [
    "y_train.value_counts()"
   ]
  },
  {
   "cell_type": "markdown",
   "metadata": {},
   "source": [
    "When the class of interest occurs rarely in our data, our problems extend beyond just not being able to use accuracy as a scoring metric. Our ML models will be less inclined to pick up signal from rare class samples and treat them more as outliers. This means that our **predicted probabilities for a rare class can be consistently low, making our recall for that class poor**. We're searching for a few rare delinquent loans in a huge sea of non-delinquent loans."
   ]
  },
  {
   "cell_type": "code",
   "execution_count": 13,
   "metadata": {},
   "outputs": [],
   "source": [
    "#over sample the delinquent data to even out the ratio. \n",
    "ROS = imblearn.over_sampling.RandomOverSampler(\\\n",
    "                                               ratio={0:485727,1:12048*40}, \\\n",
    "                                               random_state=42) \n"
   ]
  },
  {
   "cell_type": "code",
   "execution_count": 14,
   "metadata": {},
   "outputs": [],
   "source": [
    "#transform data to new, more even ratio.\n",
    "X_tr_rs, y_tr_rs = ROS.fit_sample(X_train, y_train)"
   ]
  },
  {
   "cell_type": "code",
   "execution_count": 15,
   "metadata": {},
   "outputs": [
    {
     "name": "stderr",
     "output_type": "stream",
     "text": [
      "/Users/christianbuerkle/anaconda3/lib/python3.7/site-packages/sklearn/linear_model/logistic.py:433: FutureWarning: Default solver will be changed to 'lbfgs' in 0.22. Specify a solver to silence this warning.\n",
      "  FutureWarning)\n"
     ]
    },
    {
     "data": {
      "text/plain": [
       "LogisticRegression(C=1.0, class_weight=None, dual=False, fit_intercept=True,\n",
       "          intercept_scaling=1, max_iter=100, multi_class='warn',\n",
       "          n_jobs=None, penalty='l2', random_state=None, solver='warn',\n",
       "          tol=0.0001, verbose=0, warm_start=False)"
      ]
     },
     "execution_count": 15,
     "metadata": {},
     "output_type": "execute_result"
    }
   ],
   "source": [
    "#train model on transformed data\n",
    "lr = LogisticRegression() \n",
    "lr.fit(X_tr_rs, y_tr_rs)"
   ]
  },
  {
   "cell_type": "code",
   "execution_count": 35,
   "metadata": {},
   "outputs": [
    {
     "name": "stdout",
     "output_type": "stream",
     "text": [
      "Upsampled Logistic Regression; Test F1: 0.816, Test AUC: 1.000\n"
     ]
    }
   ],
   "source": [
    "#F1 and AUC metrics on test data (model has not seen this data before)\n",
    "print('Upsampled Logistic Regression; Test F1: %.3f, Test AUC: %.3f' % \\\n",
    "      (f1_score(lr.predict(X_test), y_test), roc_auc_score(y_test, lr.predict_proba(X_test)[:,1]))) "
   ]
  },
  {
   "cell_type": "code",
   "execution_count": 17,
   "metadata": {},
   "outputs": [
    {
     "data": {
      "text/plain": [
       "array([[119942,   1397],\n",
       "       [     2,   3103]])"
      ]
     },
     "execution_count": 17,
     "metadata": {},
     "output_type": "execute_result"
    }
   ],
   "source": [
    "#confusion matrix on test data\n",
    "confusion_matrix(y_test, lr.predict(X_test))"
   ]
  },
  {
   "cell_type": "markdown",
   "metadata": {},
   "source": [
    "### Confusion Matrix Key\n",
    "![](Confusion_matrix.png)"
   ]
  },
  {
   "cell_type": "code",
   "execution_count": 34,
   "metadata": {},
   "outputs": [
    {
     "data": {
      "text/plain": [
       "0.9887579955642699"
      ]
     },
     "execution_count": 34,
     "metadata": {},
     "output_type": "execute_result"
    }
   ],
   "source": [
    "# Accuracy of my classification model\n",
    "lr.score(X_test, y_test)"
   ]
  },
  {
   "cell_type": "code",
   "execution_count": 19,
   "metadata": {},
   "outputs": [
    {
     "data": {
      "text/plain": [
       "0    121339\n",
       "1      3105\n",
       "Name: default, dtype: int64"
      ]
     },
     "execution_count": 19,
     "metadata": {},
     "output_type": "execute_result"
    }
   ],
   "source": [
    "#2.56% of values are delinquent so my model is adding significant \n",
    "# predictive value in classifying loan performance\n",
    "y_test.value_counts()"
   ]
  },
  {
   "cell_type": "markdown",
   "metadata": {},
   "source": [
    "# Comparing Upsampled vs Raw Model"
   ]
  },
  {
   "cell_type": "code",
   "execution_count": 20,
   "metadata": {},
   "outputs": [
    {
     "name": "stderr",
     "output_type": "stream",
     "text": [
      "/Users/christianbuerkle/anaconda3/lib/python3.7/site-packages/sklearn/linear_model/logistic.py:433: FutureWarning: Default solver will be changed to 'lbfgs' in 0.22. Specify a solver to silence this warning.\n",
      "  FutureWarning)\n"
     ]
    },
    {
     "data": {
      "text/plain": [
       "LogisticRegression(C=1.0, class_weight=None, dual=False, fit_intercept=True,\n",
       "          intercept_scaling=1, max_iter=100, multi_class='warn',\n",
       "          n_jobs=None, penalty='l2', random_state=None, solver='warn',\n",
       "          tol=0.0001, verbose=0, warm_start=False)"
      ]
     },
     "execution_count": 20,
     "metadata": {},
     "output_type": "execute_result"
    }
   ],
   "source": [
    "#lr2 is raw model, lr is upsampled\n",
    "lr2 = LogisticRegression() \n",
    "lr2.fit(X_train, y_train)"
   ]
  },
  {
   "cell_type": "code",
   "execution_count": 21,
   "metadata": {},
   "outputs": [
    {
     "name": "stdout",
     "output_type": "stream",
     "text": [
      "Upsampled Logistic Regression; Test F1: 0.816, Test AUC: 0.000\n",
      "Raw Logistic Regression; Test F1: 0.001, Test AUC: 0.305\n"
     ]
    }
   ],
   "source": [
    "\n",
    "print('Upsampled Logistic Regression; Test F1: %.3f, Test AUC: %.3f' % \\\n",
    "      (f1_score(lr.predict(X_test), y_test), roc_auc_score(y_test, lr.predict_proba(X_test)[:,0]))) \n",
    "print('Raw Logistic Regression; Test F1: %.3f, Test AUC: %.3f' % \\\n",
    "      (f1_score(lr2.predict(X_test), y_test), roc_auc_score(y_test, lr2.predict_proba(X_test)[:,0])))\n"
   ]
  },
  {
   "cell_type": "markdown",
   "metadata": {},
   "source": [
    "## The ROC curve\n",
    "\n",
    "This curve plots the *true positive rate* on the y axis, and the *false positive rate* on the x axis. The dotted line reflects a 50/50 guess, red line reflects the model."
   ]
  },
  {
   "cell_type": "code",
   "execution_count": 30,
   "metadata": {},
   "outputs": [],
   "source": [
    "from sklearn.metrics import roc_auc_score, roc_curve\n",
    "fpr, tpr, thresholds = roc_curve(y_test, lr.predict_proba(X_test)[:,1])"
   ]
  },
  {
   "cell_type": "code",
   "execution_count": 31,
   "metadata": {},
   "outputs": [
    {
     "name": "stdout",
     "output_type": "stream",
     "text": [
      "ROC AUC score =  0.9998961241909404\n"
     ]
    },
    {
     "data": {
      "image/png": "[encoded data removed]",
      "text/plain": [
       "<Figure size 432x288 with 1 Axes>"
      ]
     },
     "metadata": {
      "needs_background": "light"
     },
     "output_type": "display_data"
    }
   ],
   "source": [
    "plt.plot(fpr, tpr,lw=2)\n",
    "plt.plot([0,1],[0,1],c='violet',ls='--')\n",
    "plt.xlim([-0.05,1.05])\n",
    "plt.ylim([-0.05,1.05])\n",
    "\n",
    "\n",
    "plt.xlabel('False positive rate')\n",
    "plt.ylabel('True positive rate')\n",
    "plt.title('ROC curve for Upsampled Model');\n",
    "print(\"ROC AUC score = \", roc_auc_score(y_test, lr.predict_proba(X_test)[:,1]))"
   ]
  },
  {
   "cell_type": "code",
   "execution_count": 32,
   "metadata": {},
   "outputs": [],
   "source": [
    "fpr, tpr, thresholds = roc_curve(y_test, lr2.predict_proba(X_test)[:,1])"
   ]
  },
  {
   "cell_type": "code",
   "execution_count": 33,
   "metadata": {},
   "outputs": [
    {
     "name": "stdout",
     "output_type": "stream",
     "text": [
      "ROC AUC score =  0.3046981070149362\n"
     ]
    },
    {
     "data": {
      "image/png": "[encoded data removed]",
      "text/plain": [
       "<Figure size 432x288 with 1 Axes>"
      ]
     },
     "metadata": {
      "needs_background": "light"
     },
     "output_type": "display_data"
    }
   ],
   "source": [
    "plt.plot(fpr, tpr,lw=2)\n",
    "plt.plot([0,1],[0,1],c='violet',ls='--')\n",
    "plt.xlim([-0.05,1.05])\n",
    "plt.ylim([-0.05,1.05])\n",
    "\n",
    "\n",
    "plt.xlabel('False positive rate')\n",
    "plt.ylabel('True positive rate')\n",
    "plt.title('ROC curve for Raw Model');\n",
    "print(\"ROC AUC score = \", roc_auc_score(y_test, lr2.predict_proba(X_test)[:,0]))"
   ]
  },
  {
   "cell_type": "markdown",
   "metadata": {},
   "source": [
    "## Accuracy and Confusion Matrix Comparisons"
   ]
  },
  {
   "cell_type": "code",
   "execution_count": 26,
   "metadata": {},
   "outputs": [
    {
     "name": "stdout",
     "output_type": "stream",
     "text": [
      "Upsampled Model Accuracy 0.9887579955642699\n",
      "Raw Model Accuracy 0.9749284818874353\n"
     ]
    }
   ],
   "source": [
    "# upsampled model looks like it's just guessing everything is not delinquent\n",
    "print('Upsampled Model Accuracy' + ' ' + str(lr.score(X_test, y_test)))\n",
    "print('Raw Model Accuracy' + ' ' + str(lr2.score(X_test, y_test)))"
   ]
  },
  {
   "cell_type": "code",
   "execution_count": 27,
   "metadata": {},
   "outputs": [
    {
     "name": "stdout",
     "output_type": "stream",
     "text": [
      "Upsampled Model Confusion Matrix\n",
      "[[119942   1397]\n",
      " [     2   3103]]\n",
      "Raw Model Confusion Matrix\n",
      "[[121323     16]\n",
      " [  3104      1]]\n"
     ]
    }
   ],
   "source": [
    "#Raw model is not predicting delinquencies because the data is so lopsided \n",
    "#upsampled model predicts 69% delinquencies and ~100% non-delinquencies\n",
    "print('Upsampled Model Confusion Matrix')\n",
    "print(confusion_matrix(y_test, lr.predict(X_test)))\n",
    "print('Raw Model Confusion Matrix')\n",
    "print(confusion_matrix(y_test, lr2.predict(X_test)))"
   ]
  },
  {
   "cell_type": "markdown",
   "metadata": {},
   "source": [
    "\n",
    "![](Confusion_matrix.png)"
   ]
  },
  {
   "cell_type": "code",
   "execution_count": 98,
   "metadata": {},
   "outputs": [],
   "source": [
    "Upsample_cm = confusion_matrix(y_test, lr.predict(X_test))"
   ]
  },
  {
   "cell_type": "code",
   "execution_count": 2,
   "metadata": {},
   "outputs": [
    {
     "ename": "NameError",
     "evalue": "name 'sns' is not defined",
     "output_type": "error",
     "traceback": [
      "\u001b[0;31m---------------------------------------------------------------------------\u001b[0m",
      "\u001b[0;31mNameError\u001b[0m                                 Traceback (most recent call last)",
      "\u001b[0;32m<ipython-input-2-7b44763f8550>\u001b[0m in \u001b[0;36m<module>\u001b[0;34m\u001b[0m\n\u001b[0;32m----> 1\u001b[0;31m \u001b[0msns\u001b[0m\u001b[0;34m.\u001b[0m\u001b[0mheatmap\u001b[0m\u001b[0;34m(\u001b[0m\u001b[0mUpsample_cm\u001b[0m\u001b[0;34m,\u001b[0m \u001b[0mcmap\u001b[0m\u001b[0;34m=\u001b[0m\u001b[0mplt\u001b[0m\u001b[0;34m.\u001b[0m\u001b[0mcm\u001b[0m\u001b[0;34m.\u001b[0m\u001b[0mBlues\u001b[0m\u001b[0;34m,\u001b[0m \u001b[0mannot\u001b[0m\u001b[0;34m=\u001b[0m\u001b[0;32mTrue\u001b[0m\u001b[0;34m,\u001b[0m \u001b[0msquare\u001b[0m\u001b[0;34m=\u001b[0m\u001b[0;32mTrue\u001b[0m\u001b[0;34m,\u001b[0m\u001b[0;34m)\u001b[0m\u001b[0;34m\u001b[0m\u001b[0;34m\u001b[0m\u001b[0m\n\u001b[0m\u001b[1;32m      2\u001b[0m \u001b[0;31m#plt.title('Upsampled Confusion Matrix');\u001b[0m\u001b[0;34m\u001b[0m\u001b[0;34m\u001b[0m\u001b[0;34m\u001b[0m\u001b[0m\n",
      "\u001b[0;31mNameError\u001b[0m: name 'sns' is not defined"
     ]
    }
   ],
   "source": [
    "sns.heatmap(Upsample_cm, cmap=plt.cm.Blues, annot=True, square=True,)\n",
    "#plt.title('Upsampled Confusion Matrix');"
   ]
  },
  {
   "cell_type": "code",
   "execution_count": 1,
   "metadata": {},
   "outputs": [
    {
     "ename": "NameError",
     "evalue": "name 'lr2' is not defined",
     "output_type": "error",
     "traceback": [
      "\u001b[0;31m---------------------------------------------------------------------------\u001b[0m",
      "\u001b[0;31mNameError\u001b[0m                                 Traceback (most recent call last)",
      "\u001b[0;32m<ipython-input-1-2916c7bac779>\u001b[0m in \u001b[0;36m<module>\u001b[0;34m\u001b[0m\n\u001b[1;32m      1\u001b[0m \u001b[0;31m#precision_score, recall_score, accuracy_score, roc_auc_score\u001b[0m\u001b[0;34m\u001b[0m\u001b[0;34m\u001b[0m\u001b[0;34m\u001b[0m\u001b[0m\n\u001b[0;32m----> 2\u001b[0;31m \u001b[0mprint\u001b[0m\u001b[0;34m(\u001b[0m\u001b[0mlr2\u001b[0m\u001b[0;34m.\u001b[0m\u001b[0mprecision_score\u001b[0m\u001b[0;34m(\u001b[0m\u001b[0mX_test\u001b[0m\u001b[0;34m,\u001b[0m \u001b[0my_test\u001b[0m\u001b[0;34m)\u001b[0m\u001b[0;34m)\u001b[0m\u001b[0;34m\u001b[0m\u001b[0;34m\u001b[0m\u001b[0m\n\u001b[0m",
      "\u001b[0;31mNameError\u001b[0m: name 'lr2' is not defined"
     ]
    }
   ],
   "source": [
    "#precision_score, recall_score, accuracy_score, roc_auc_score\n",
    "# print(lr2.precision_score(X_test, y_test))"
   ]
  },
  {
   "cell_type": "code",
   "execution_count": null,
   "metadata": {},
   "outputs": [],
   "source": []
  }
 ],
 "metadata": {
  "kernelspec": {
   "display_name": "Python 3",
   "language": "python",
   "name": "python3"
  },
  "language_info": {
   "codemirror_mode": {
    "name": "ipython",
    "version": 3
   },
   "file_extension": ".py",
   "mimetype": "text/x-python",
   "name": "python",
   "nbconvert_exporter": "python",
   "pygments_lexer": "ipython3",
   "version": "3.7.1"
  }
 },
 "nbformat": 4,
 "nbformat_minor": 2
}
