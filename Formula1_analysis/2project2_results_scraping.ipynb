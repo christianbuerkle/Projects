{
 "cells": [
  {
   "cell_type": "code",
   "execution_count": 1,
   "metadata": {},
   "outputs": [],
   "source": [
    "import pandas as pd"
   ]
  },
  {
   "cell_type": "code",
   "execution_count": 46,
   "metadata": {},
   "outputs": [],
   "source": [
    "results2006 = pd.read_html('https://www.formula1.com/en/results.html/2006/drivers.html')\n",
    "results2006 = results2006[0]"
   ]
  },
  {
   "cell_type": "code",
   "execution_count": 47,
   "metadata": {},
   "outputs": [
    {
     "data": {
      "text/html": [
       "<div>\n",
       "<style scoped>\n",
       "    .dataframe tbody tr th:only-of-type {\n",
       "        vertical-align: middle;\n",
       "    }\n",
       "\n",
       "    .dataframe tbody tr th {\n",
       "        vertical-align: top;\n",
       "    }\n",
       "\n",
       "    .dataframe thead th {\n",
       "        text-align: right;\n",
       "    }\n",
       "</style>\n",
       "<table border=\"1\" class=\"dataframe\">\n",
       "  <thead>\n",
       "    <tr style=\"text-align: right;\">\n",
       "      <th></th>\n",
       "      <th>Unnamed: 0</th>\n",
       "      <th>Pos</th>\n",
       "      <th>Driver</th>\n",
       "      <th>Nationality</th>\n",
       "      <th>Car</th>\n",
       "      <th>PTS</th>\n",
       "      <th>Unnamed: 6</th>\n",
       "    </tr>\n",
       "  </thead>\n",
       "  <tbody>\n",
       "    <tr>\n",
       "      <th>0</th>\n",
       "      <td>NaN</td>\n",
       "      <td>1</td>\n",
       "      <td>Fernando  Alonso  ALO</td>\n",
       "      <td>ESP</td>\n",
       "      <td>Renault</td>\n",
       "      <td>134</td>\n",
       "      <td>NaN</td>\n",
       "    </tr>\n",
       "    <tr>\n",
       "      <th>1</th>\n",
       "      <td>NaN</td>\n",
       "      <td>2</td>\n",
       "      <td>Michael  Schumacher  MSC</td>\n",
       "      <td>GER</td>\n",
       "      <td>Ferrari</td>\n",
       "      <td>121</td>\n",
       "      <td>NaN</td>\n",
       "    </tr>\n",
       "    <tr>\n",
       "      <th>2</th>\n",
       "      <td>NaN</td>\n",
       "      <td>3</td>\n",
       "      <td>Felipe  Massa  MAS</td>\n",
       "      <td>BRA</td>\n",
       "      <td>Ferrari</td>\n",
       "      <td>80</td>\n",
       "      <td>NaN</td>\n",
       "    </tr>\n",
       "    <tr>\n",
       "      <th>3</th>\n",
       "      <td>NaN</td>\n",
       "      <td>4</td>\n",
       "      <td>Giancarlo  Fisichella  FIS</td>\n",
       "      <td>ITA</td>\n",
       "      <td>Renault</td>\n",
       "      <td>72</td>\n",
       "      <td>NaN</td>\n",
       "    </tr>\n",
       "    <tr>\n",
       "      <th>4</th>\n",
       "      <td>NaN</td>\n",
       "      <td>5</td>\n",
       "      <td>Kimi  Räikkönen  RAI</td>\n",
       "      <td>FIN</td>\n",
       "      <td>McLaren Mercedes</td>\n",
       "      <td>65</td>\n",
       "      <td>NaN</td>\n",
       "    </tr>\n",
       "  </tbody>\n",
       "</table>\n",
       "</div>"
      ],
      "text/plain": [
       "   Unnamed: 0  Pos                      Driver Nationality               Car  \\\n",
       "0         NaN    1       Fernando  Alonso  ALO         ESP           Renault   \n",
       "1         NaN    2    Michael  Schumacher  MSC         GER           Ferrari   \n",
       "2         NaN    3          Felipe  Massa  MAS         BRA           Ferrari   \n",
       "3         NaN    4  Giancarlo  Fisichella  FIS         ITA           Renault   \n",
       "4         NaN    5        Kimi  Räikkönen  RAI         FIN  McLaren Mercedes   \n",
       "\n",
       "   PTS  Unnamed: 6  \n",
       "0  134         NaN  \n",
       "1  121         NaN  \n",
       "2   80         NaN  \n",
       "3   72         NaN  \n",
       "4   65         NaN  "
      ]
     },
     "execution_count": 47,
     "metadata": {},
     "output_type": "execute_result"
    }
   ],
   "source": [
    "results2006.head()"
   ]
  },
  {
   "cell_type": "code",
   "execution_count": 48,
   "metadata": {},
   "outputs": [],
   "source": [
    "results2006['year']=2006"
   ]
  },
  {
   "cell_type": "code",
   "execution_count": 49,
   "metadata": {},
   "outputs": [],
   "source": [
    "results2007 = pd.read_html('https://www.formula1.com/en/results.html/2007/drivers.html')\n",
    "results2007 = results2007[0]\n",
    "results2007['year']=2007"
   ]
  },
  {
   "cell_type": "code",
   "execution_count": 50,
   "metadata": {},
   "outputs": [],
   "source": [
    "results2008 = pd.read_html('https://www.formula1.com/en/results.html/2008/drivers.html')\n",
    "results2008 = results2008[0]\n",
    "results2008['year']=2008"
   ]
  },
  {
   "cell_type": "code",
   "execution_count": 51,
   "metadata": {},
   "outputs": [],
   "source": [
    "results2009 = pd.read_html('https://www.formula1.com/en/results.html/2009/drivers.html')\n",
    "results2009 = results2009[0]\n",
    "results2009['year']=2009"
   ]
  },
  {
   "cell_type": "code",
   "execution_count": 52,
   "metadata": {},
   "outputs": [],
   "source": [
    "results2010 = pd.read_html('https://www.formula1.com/en/results.html/2010/drivers.html')\n",
    "results2010 = results2010[0]\n",
    "results2010['year']=2010"
   ]
  },
  {
   "cell_type": "code",
   "execution_count": 53,
   "metadata": {},
   "outputs": [],
   "source": [
    "results2011 = pd.read_html('https://www.formula1.com/en/results.html/2011/drivers.html')\n",
    "results2011 = results2011[0]\n",
    "results2011['year']=2011"
   ]
  },
  {
   "cell_type": "code",
   "execution_count": 54,
   "metadata": {},
   "outputs": [],
   "source": [
    "results2012 = pd.read_html('https://www.formula1.com/en/results.html/2012/drivers.html')\n",
    "results2012 = results2012[0]\n",
    "results2012['year']=2012"
   ]
  },
  {
   "cell_type": "code",
   "execution_count": 55,
   "metadata": {},
   "outputs": [],
   "source": [
    "results2013 = pd.read_html('https://www.formula1.com/en/results.html/2013/drivers.html')\n",
    "results2013 = results2013[0]\n",
    "results2013['year']=2013"
   ]
  },
  {
   "cell_type": "code",
   "execution_count": 56,
   "metadata": {},
   "outputs": [],
   "source": [
    "results2014 = pd.read_html('https://www.formula1.com/en/results.html/2014/drivers.html')\n",
    "results2014 = results2014[0]\n",
    "results2014['year']=2014"
   ]
  },
  {
   "cell_type": "code",
   "execution_count": 57,
   "metadata": {},
   "outputs": [],
   "source": [
    "results2015 = pd.read_html('https://www.formula1.com/en/results.html/2015/drivers.html')\n",
    "results2015 = results2015[0]\n",
    "results2015['year']=2015"
   ]
  },
  {
   "cell_type": "code",
   "execution_count": 58,
   "metadata": {},
   "outputs": [],
   "source": [
    "results2016 = pd.read_html('https://www.formula1.com/en/results.html/2016b/drivers.html')\n",
    "results2016 = results2016[0]\n",
    "results2016['year']=2016"
   ]
  },
  {
   "cell_type": "code",
   "execution_count": 59,
   "metadata": {},
   "outputs": [],
   "source": [
    "results2017 = pd.read_html('https://www.formula1.com/en/results.html/2017/drivers.html')\n",
    "results2017 = results2017[0]\n",
    "results2017['year']=2017"
   ]
  },
  {
   "cell_type": "code",
   "execution_count": 60,
   "metadata": {},
   "outputs": [],
   "source": [
    "results2006_2017 = pd.concat([results2006,results2007,results2008,results2009,results2010, results2011,results2012,results2013,results2014,results2015,results2016,results2017])\n",
    "# results2006_2017['DRIVER'] = results2006_2017['Driver']\n",
    "# results2006_2017 = results2006_2010.rename(columns = {'PTS':'POINTS'})\n"
   ]
  },
  {
   "cell_type": "code",
   "execution_count": 61,
   "metadata": {},
   "outputs": [],
   "source": [
    "# results2006_2010 = results2006_2010.rename(columns = {'Pos':'RK'})\n",
    "# results2006_2010.head()"
   ]
  },
  {
   "cell_type": "code",
   "execution_count": 62,
   "metadata": {},
   "outputs": [
    {
     "data": {
      "text/html": [
       "<div>\n",
       "<style scoped>\n",
       "    .dataframe tbody tr th:only-of-type {\n",
       "        vertical-align: middle;\n",
       "    }\n",
       "\n",
       "    .dataframe tbody tr th {\n",
       "        vertical-align: top;\n",
       "    }\n",
       "\n",
       "    .dataframe thead th {\n",
       "        text-align: right;\n",
       "    }\n",
       "</style>\n",
       "<table border=\"1\" class=\"dataframe\">\n",
       "  <thead>\n",
       "    <tr style=\"text-align: right;\">\n",
       "      <th></th>\n",
       "      <th>Unnamed: 0</th>\n",
       "      <th>Pos</th>\n",
       "      <th>Driver</th>\n",
       "      <th>Nationality</th>\n",
       "      <th>Car</th>\n",
       "      <th>PTS</th>\n",
       "      <th>Unnamed: 6</th>\n",
       "      <th>year</th>\n",
       "    </tr>\n",
       "  </thead>\n",
       "  <tbody>\n",
       "    <tr>\n",
       "      <th>0</th>\n",
       "      <td>NaN</td>\n",
       "      <td>1</td>\n",
       "      <td>Fernando  Alonso  ALO</td>\n",
       "      <td>ESP</td>\n",
       "      <td>Renault</td>\n",
       "      <td>134.0</td>\n",
       "      <td>NaN</td>\n",
       "      <td>2006</td>\n",
       "    </tr>\n",
       "    <tr>\n",
       "      <th>1</th>\n",
       "      <td>NaN</td>\n",
       "      <td>2</td>\n",
       "      <td>Michael  Schumacher  MSC</td>\n",
       "      <td>GER</td>\n",
       "      <td>Ferrari</td>\n",
       "      <td>121.0</td>\n",
       "      <td>NaN</td>\n",
       "      <td>2006</td>\n",
       "    </tr>\n",
       "    <tr>\n",
       "      <th>2</th>\n",
       "      <td>NaN</td>\n",
       "      <td>3</td>\n",
       "      <td>Felipe  Massa  MAS</td>\n",
       "      <td>BRA</td>\n",
       "      <td>Ferrari</td>\n",
       "      <td>80.0</td>\n",
       "      <td>NaN</td>\n",
       "      <td>2006</td>\n",
       "    </tr>\n",
       "    <tr>\n",
       "      <th>3</th>\n",
       "      <td>NaN</td>\n",
       "      <td>4</td>\n",
       "      <td>Giancarlo  Fisichella  FIS</td>\n",
       "      <td>ITA</td>\n",
       "      <td>Renault</td>\n",
       "      <td>72.0</td>\n",
       "      <td>NaN</td>\n",
       "      <td>2006</td>\n",
       "    </tr>\n",
       "    <tr>\n",
       "      <th>4</th>\n",
       "      <td>NaN</td>\n",
       "      <td>5</td>\n",
       "      <td>Kimi  Räikkönen  RAI</td>\n",
       "      <td>FIN</td>\n",
       "      <td>McLaren Mercedes</td>\n",
       "      <td>65.0</td>\n",
       "      <td>NaN</td>\n",
       "      <td>2006</td>\n",
       "    </tr>\n",
       "  </tbody>\n",
       "</table>\n",
       "</div>"
      ],
      "text/plain": [
       "   Unnamed: 0  Pos                      Driver Nationality               Car  \\\n",
       "0         NaN    1       Fernando  Alonso  ALO         ESP           Renault   \n",
       "1         NaN    2    Michael  Schumacher  MSC         GER           Ferrari   \n",
       "2         NaN    3          Felipe  Massa  MAS         BRA           Ferrari   \n",
       "3         NaN    4  Giancarlo  Fisichella  FIS         ITA           Renault   \n",
       "4         NaN    5        Kimi  Räikkönen  RAI         FIN  McLaren Mercedes   \n",
       "\n",
       "     PTS  Unnamed: 6  year  \n",
       "0  134.0         NaN  2006  \n",
       "1  121.0         NaN  2006  \n",
       "2   80.0         NaN  2006  \n",
       "3   72.0         NaN  2006  \n",
       "4   65.0         NaN  2006  "
      ]
     },
     "execution_count": 62,
     "metadata": {},
     "output_type": "execute_result"
    }
   ],
   "source": [
    "results2006_2017.head()"
   ]
  },
  {
   "cell_type": "code",
   "execution_count": 63,
   "metadata": {},
   "outputs": [],
   "source": [
    "def split_string(row):\n",
    "    string_list = row.split(' ')\n",
    "    new_string = string_list[0]\n",
    "    full_name = ''.join(new_string)\n",
    "    return new_string\n"
   ]
  },
  {
   "cell_type": "code",
   "execution_count": 64,
   "metadata": {},
   "outputs": [],
   "source": [
    "results2006_2017['Driver'] = results2006_2017['Driver'].apply(split_string)"
   ]
  },
  {
   "cell_type": "code",
   "execution_count": 65,
   "metadata": {},
   "outputs": [
    {
     "data": {
      "text/html": [
       "<div>\n",
       "<style scoped>\n",
       "    .dataframe tbody tr th:only-of-type {\n",
       "        vertical-align: middle;\n",
       "    }\n",
       "\n",
       "    .dataframe tbody tr th {\n",
       "        vertical-align: top;\n",
       "    }\n",
       "\n",
       "    .dataframe thead th {\n",
       "        text-align: right;\n",
       "    }\n",
       "</style>\n",
       "<table border=\"1\" class=\"dataframe\">\n",
       "  <thead>\n",
       "    <tr style=\"text-align: right;\">\n",
       "      <th></th>\n",
       "      <th>Unnamed: 0</th>\n",
       "      <th>Pos</th>\n",
       "      <th>Driver</th>\n",
       "      <th>Nationality</th>\n",
       "      <th>Car</th>\n",
       "      <th>PTS</th>\n",
       "      <th>Unnamed: 6</th>\n",
       "      <th>year</th>\n",
       "    </tr>\n",
       "  </thead>\n",
       "  <tbody>\n",
       "    <tr>\n",
       "      <th>0</th>\n",
       "      <td>NaN</td>\n",
       "      <td>1</td>\n",
       "      <td>Fernando</td>\n",
       "      <td>ESP</td>\n",
       "      <td>Renault</td>\n",
       "      <td>134.0</td>\n",
       "      <td>NaN</td>\n",
       "      <td>2006</td>\n",
       "    </tr>\n",
       "    <tr>\n",
       "      <th>1</th>\n",
       "      <td>NaN</td>\n",
       "      <td>2</td>\n",
       "      <td>Michael</td>\n",
       "      <td>GER</td>\n",
       "      <td>Ferrari</td>\n",
       "      <td>121.0</td>\n",
       "      <td>NaN</td>\n",
       "      <td>2006</td>\n",
       "    </tr>\n",
       "    <tr>\n",
       "      <th>2</th>\n",
       "      <td>NaN</td>\n",
       "      <td>3</td>\n",
       "      <td>Felipe</td>\n",
       "      <td>BRA</td>\n",
       "      <td>Ferrari</td>\n",
       "      <td>80.0</td>\n",
       "      <td>NaN</td>\n",
       "      <td>2006</td>\n",
       "    </tr>\n",
       "    <tr>\n",
       "      <th>3</th>\n",
       "      <td>NaN</td>\n",
       "      <td>4</td>\n",
       "      <td>Giancarlo</td>\n",
       "      <td>ITA</td>\n",
       "      <td>Renault</td>\n",
       "      <td>72.0</td>\n",
       "      <td>NaN</td>\n",
       "      <td>2006</td>\n",
       "    </tr>\n",
       "    <tr>\n",
       "      <th>4</th>\n",
       "      <td>NaN</td>\n",
       "      <td>5</td>\n",
       "      <td>Kimi</td>\n",
       "      <td>FIN</td>\n",
       "      <td>McLaren Mercedes</td>\n",
       "      <td>65.0</td>\n",
       "      <td>NaN</td>\n",
       "      <td>2006</td>\n",
       "    </tr>\n",
       "  </tbody>\n",
       "</table>\n",
       "</div>"
      ],
      "text/plain": [
       "   Unnamed: 0  Pos     Driver Nationality               Car    PTS  \\\n",
       "0         NaN    1   Fernando         ESP           Renault  134.0   \n",
       "1         NaN    2    Michael         GER           Ferrari  121.0   \n",
       "2         NaN    3     Felipe         BRA           Ferrari   80.0   \n",
       "3         NaN    4  Giancarlo         ITA           Renault   72.0   \n",
       "4         NaN    5       Kimi         FIN  McLaren Mercedes   65.0   \n",
       "\n",
       "   Unnamed: 6  year  \n",
       "0         NaN  2006  \n",
       "1         NaN  2006  \n",
       "2         NaN  2006  \n",
       "3         NaN  2006  \n",
       "4         NaN  2006  "
      ]
     },
     "execution_count": 65,
     "metadata": {},
     "output_type": "execute_result"
    }
   ],
   "source": [
    "results2006_2017.head()"
   ]
  },
  {
   "cell_type": "code",
   "execution_count": 66,
   "metadata": {},
   "outputs": [],
   "source": [
    "# del results2006_2017['Unnamed: 0']\n",
    "# del results2006_2017['Unnamed: 6']\n",
    "# del results2006_2017['Nationality']\n",
    "# del results2006_2017['Car']\n",
    "\n"
   ]
  },
  {
   "cell_type": "code",
   "execution_count": 68,
   "metadata": {},
   "outputs": [],
   "source": [
    "results2006_2017.to_csv('project2_scraped_results.csv')"
   ]
  },
  {
   "cell_type": "code",
   "execution_count": null,
   "metadata": {},
   "outputs": [],
   "source": []
  }
 ],
 "metadata": {
  "kernelspec": {
   "display_name": "Python 3",
   "language": "python",
   "name": "python3"
  },
  "language_info": {
   "codemirror_mode": {
    "name": "ipython",
    "version": 3
   },
   "file_extension": ".py",
   "mimetype": "text/x-python",
   "name": "python",
   "nbconvert_exporter": "python",
   "pygments_lexer": "ipython3",
   "version": "3.7.1"
  }
 },
 "nbformat": 4,
 "nbformat_minor": 2
}
