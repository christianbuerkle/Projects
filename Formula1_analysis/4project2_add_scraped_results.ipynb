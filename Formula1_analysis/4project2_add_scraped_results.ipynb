{
 "cells": [
  {
   "cell_type": "code",
   "execution_count": 99,
   "metadata": {},
   "outputs": [],
   "source": [
    "import pandas as pd\n",
    "import matplotlib.pyplot as plt\n",
    "import numpy as np\n",
    "import pandas as pd\n",
    "from sklearn import datasets\n",
    "import datetime\n",
    "  \n"
   ]
  },
  {
   "cell_type": "code",
   "execution_count": 100,
   "metadata": {},
   "outputs": [],
   "source": [
    "\n",
    "races = pd.read_csv('races.csv')\n",
    "df = pd.read_csv('laps_qual_result_trim.csv')"
   ]
  },
  {
   "cell_type": "code",
   "execution_count": 101,
   "metadata": {},
   "outputs": [
    {
     "data": {
      "text/plain": [
       "raceId         0\n",
       "year           0\n",
       "round          0\n",
       "circuitId      0\n",
       "name           0\n",
       "date           0\n",
       "time         731\n",
       "url            0\n",
       "dtype: int64"
      ]
     },
     "execution_count": 101,
     "metadata": {},
     "output_type": "execute_result"
    }
   ],
   "source": [
    "races.isna().sum()"
   ]
  },
  {
   "cell_type": "code",
   "execution_count": 102,
   "metadata": {},
   "outputs": [],
   "source": [
    "# races = pd.DataFrame(races[races.raceId > 840])"
   ]
  },
  {
   "cell_type": "code",
   "execution_count": 103,
   "metadata": {},
   "outputs": [
    {
     "data": {
      "text/plain": [
       "Unnamed: 0           0\n",
       "raceId               0\n",
       "driverId             0\n",
       "grid                 0\n",
       "position_x         995\n",
       "positionOrder        0\n",
       "points               0\n",
       "laps                 0\n",
       "fastestLap         253\n",
       "fastestLapSpeed    253\n",
       "q_position          21\n",
       "lap                200\n",
       "position_y         200\n",
       "meanlaptime        200\n",
       "fastlaptime        200\n",
       "dtype: int64"
      ]
     },
     "execution_count": 103,
     "metadata": {},
     "output_type": "execute_result"
    }
   ],
   "source": [
    "df.isna().sum()"
   ]
  },
  {
   "cell_type": "code",
   "execution_count": 106,
   "metadata": {},
   "outputs": [],
   "source": [
    "laps_qual_results_races = pd.merge(df, races, on = ['raceId'], how = 'left')"
   ]
  },
  {
   "cell_type": "code",
   "execution_count": 107,
   "metadata": {},
   "outputs": [],
   "source": [
    "del df['Unnamed: 0']"
   ]
  },
  {
   "cell_type": "code",
   "execution_count": 109,
   "metadata": {},
   "outputs": [],
   "source": [
    "scraped_results = pd.read_csv('project2_scraped_results.csv')"
   ]
  },
  {
   "cell_type": "code",
   "execution_count": 110,
   "metadata": {},
   "outputs": [],
   "source": [
    "scraped_results['forename'] = scraped_results['Driver']"
   ]
  },
  {
   "cell_type": "code",
   "execution_count": 114,
   "metadata": {},
   "outputs": [],
   "source": [
    "del scraped_results['Driver']"
   ]
  },
  {
   "cell_type": "code",
   "execution_count": 115,
   "metadata": {},
   "outputs": [],
   "source": [
    "del scraped_results['Unnamed: 0']"
   ]
  },
  {
   "cell_type": "code",
   "execution_count": 116,
   "metadata": {},
   "outputs": [],
   "source": [
    "drivers = pd.read_csv('drivers_1.csv')"
   ]
  },
  {
   "cell_type": "code",
   "execution_count": 117,
   "metadata": {},
   "outputs": [
    {
     "data": {
      "text/html": [
       "<div>\n",
       "<style scoped>\n",
       "    .dataframe tbody tr th:only-of-type {\n",
       "        vertical-align: middle;\n",
       "    }\n",
       "\n",
       "    .dataframe tbody tr th {\n",
       "        vertical-align: top;\n",
       "    }\n",
       "\n",
       "    .dataframe thead th {\n",
       "        text-align: right;\n",
       "    }\n",
       "</style>\n",
       "<table border=\"1\" class=\"dataframe\">\n",
       "  <thead>\n",
       "    <tr style=\"text-align: right;\">\n",
       "      <th></th>\n",
       "      <th>driverId</th>\n",
       "      <th>number</th>\n",
       "    </tr>\n",
       "  </thead>\n",
       "  <tbody>\n",
       "    <tr>\n",
       "      <th>count</th>\n",
       "      <td>842.000000</td>\n",
       "      <td>38.000000</td>\n",
       "    </tr>\n",
       "    <tr>\n",
       "      <th>mean</th>\n",
       "      <td>421.540380</td>\n",
       "      <td>30.500000</td>\n",
       "    </tr>\n",
       "    <tr>\n",
       "      <th>std</th>\n",
       "      <td>243.275985</td>\n",
       "      <td>27.682319</td>\n",
       "    </tr>\n",
       "    <tr>\n",
       "      <th>min</th>\n",
       "      <td>1.000000</td>\n",
       "      <td>2.000000</td>\n",
       "    </tr>\n",
       "    <tr>\n",
       "      <th>25%</th>\n",
       "      <td>211.250000</td>\n",
       "      <td>10.250000</td>\n",
       "    </tr>\n",
       "    <tr>\n",
       "      <th>50%</th>\n",
       "      <td>421.500000</td>\n",
       "      <td>21.500000</td>\n",
       "    </tr>\n",
       "    <tr>\n",
       "      <th>75%</th>\n",
       "      <td>631.750000</td>\n",
       "      <td>38.250000</td>\n",
       "    </tr>\n",
       "    <tr>\n",
       "      <th>max</th>\n",
       "      <td>843.000000</td>\n",
       "      <td>99.000000</td>\n",
       "    </tr>\n",
       "  </tbody>\n",
       "</table>\n",
       "</div>"
      ],
      "text/plain": [
       "         driverId     number\n",
       "count  842.000000  38.000000\n",
       "mean   421.540380  30.500000\n",
       "std    243.275985  27.682319\n",
       "min      1.000000   2.000000\n",
       "25%    211.250000  10.250000\n",
       "50%    421.500000  21.500000\n",
       "75%    631.750000  38.250000\n",
       "max    843.000000  99.000000"
      ]
     },
     "execution_count": 117,
     "metadata": {},
     "output_type": "execute_result"
    }
   ],
   "source": [
    "drivers.describe()"
   ]
  },
  {
   "cell_type": "code",
   "execution_count": 118,
   "metadata": {},
   "outputs": [],
   "source": [
    "laps_qual_results_races_drivers = pd.merge(laps_qual_results_races, drivers, on = ['driverId'], how = 'left')"
   ]
  },
  {
   "cell_type": "code",
   "execution_count": 119,
   "metadata": {},
   "outputs": [
    {
     "data": {
      "text/plain": [
       "Unnamed: 0            0\n",
       "raceId                0\n",
       "driverId              0\n",
       "grid                  0\n",
       "position_x          995\n",
       "positionOrder         0\n",
       "points                0\n",
       "laps                  0\n",
       "fastestLap          253\n",
       "fastestLapSpeed     253\n",
       "q_position           21\n",
       "lap                 200\n",
       "position_y          200\n",
       "meanlaptime         200\n",
       "fastlaptime         200\n",
       "year                  0\n",
       "round                 0\n",
       "circuitId             0\n",
       "driverRef             0\n",
       "number             1800\n",
       "code                  0\n",
       "forename              0\n",
       "surname               0\n",
       "dob                   0\n",
       "nationality           0\n",
       "dtype: int64"
      ]
     },
     "execution_count": 119,
     "metadata": {},
     "output_type": "execute_result"
    }
   ],
   "source": [
    "\n",
    "# del laps_qual_results_races_drivers['url_x']\n",
    "# del laps_qual_results_races_drivers['url_y']\n",
    "# del laps_qual_results_races_drivers['name']\n",
    "# del laps_qual_results_races_drivers['date']\n",
    "# del laps_qual_results_races_drivers['time']\n",
    "laps_qual_results_races_drivers.isna().sum()"
   ]
  },
  {
   "cell_type": "code",
   "execution_count": 120,
   "metadata": {},
   "outputs": [],
   "source": [
    "complete_race_level_data = pd.merge(laps_qual_results_races_drivers, scraped_results, on = ['forename', 'year'], how = 'left')"
   ]
  },
  {
   "cell_type": "code",
   "execution_count": 124,
   "metadata": {},
   "outputs": [
    {
     "data": {
      "text/plain": [
       "(5174, 27)"
      ]
     },
     "execution_count": 124,
     "metadata": {},
     "output_type": "execute_result"
    }
   ],
   "source": [
    "complete_race_level_data.shape"
   ]
  },
  {
   "cell_type": "code",
   "execution_count": 125,
   "metadata": {},
   "outputs": [
    {
     "data": {
      "text/html": [
       "<div>\n",
       "<style scoped>\n",
       "    .dataframe tbody tr th:only-of-type {\n",
       "        vertical-align: middle;\n",
       "    }\n",
       "\n",
       "    .dataframe tbody tr th {\n",
       "        vertical-align: top;\n",
       "    }\n",
       "\n",
       "    .dataframe thead th {\n",
       "        text-align: right;\n",
       "    }\n",
       "</style>\n",
       "<table border=\"1\" class=\"dataframe\">\n",
       "  <thead>\n",
       "    <tr style=\"text-align: right;\">\n",
       "      <th></th>\n",
       "      <th>Unnamed: 0</th>\n",
       "      <th>raceId</th>\n",
       "      <th>driverId</th>\n",
       "      <th>grid</th>\n",
       "      <th>position_x</th>\n",
       "      <th>positionOrder</th>\n",
       "      <th>points</th>\n",
       "      <th>laps</th>\n",
       "      <th>fastestLap</th>\n",
       "      <th>q_position</th>\n",
       "      <th>lap</th>\n",
       "      <th>position_y</th>\n",
       "      <th>meanlaptime</th>\n",
       "      <th>fastlaptime</th>\n",
       "      <th>year</th>\n",
       "      <th>round</th>\n",
       "      <th>circuitId</th>\n",
       "      <th>number</th>\n",
       "      <th>Pos</th>\n",
       "      <th>PTS</th>\n",
       "    </tr>\n",
       "  </thead>\n",
       "  <tbody>\n",
       "    <tr>\n",
       "      <th>count</th>\n",
       "      <td>5174.000000</td>\n",
       "      <td>5174.000000</td>\n",
       "      <td>5174.000000</td>\n",
       "      <td>5174.000000</td>\n",
       "      <td>4145.000000</td>\n",
       "      <td>5174.000000</td>\n",
       "      <td>5174.000000</td>\n",
       "      <td>5174.000000</td>\n",
       "      <td>4910.000000</td>\n",
       "      <td>5152.000000</td>\n",
       "      <td>4963.000000</td>\n",
       "      <td>4963.000000</td>\n",
       "      <td>4963.000000</td>\n",
       "      <td>4963.000000</td>\n",
       "      <td>5174.000000</td>\n",
       "      <td>5174.000000</td>\n",
       "      <td>5174.000000</td>\n",
       "      <td>3365.000000</td>\n",
       "      <td>4820.000000</td>\n",
       "      <td>4820.000000</td>\n",
       "    </tr>\n",
       "    <tr>\n",
       "      <th>mean</th>\n",
       "      <td>2492.891573</td>\n",
       "      <td>605.649594</td>\n",
       "      <td>292.905682</td>\n",
       "      <td>11.279861</td>\n",
       "      <td>9.343064</td>\n",
       "      <td>11.384036</td>\n",
       "      <td>3.876401</td>\n",
       "      <td>52.076150</td>\n",
       "      <td>42.766395</td>\n",
       "      <td>11.289014</td>\n",
       "      <td>1.591981</td>\n",
       "      <td>10.948821</td>\n",
       "      <td>101794.951345</td>\n",
       "      <td>93403.250050</td>\n",
       "      <td>2011.675300</td>\n",
       "      <td>9.953228</td>\n",
       "      <td>16.583881</td>\n",
       "      <td>23.649926</td>\n",
       "      <td>11.340664</td>\n",
       "      <td>71.073963</td>\n",
       "    </tr>\n",
       "    <tr>\n",
       "      <th>std</th>\n",
       "      <td>1408.390503</td>\n",
       "      <td>397.966612</td>\n",
       "      <td>377.670241</td>\n",
       "      <td>6.375831</td>\n",
       "      <td>5.337232</td>\n",
       "      <td>6.394437</td>\n",
       "      <td>6.327759</td>\n",
       "      <td>18.802338</td>\n",
       "      <td>16.509145</td>\n",
       "      <td>6.338210</td>\n",
       "      <td>5.208447</td>\n",
       "      <td>6.189520</td>\n",
       "      <td>23127.560720</td>\n",
       "      <td>13092.821793</td>\n",
       "      <td>3.362226</td>\n",
       "      <td>5.493871</td>\n",
       "      <td>17.721513</td>\n",
       "      <td>23.819498</td>\n",
       "      <td>6.722166</td>\n",
       "      <td>91.564087</td>\n",
       "    </tr>\n",
       "    <tr>\n",
       "      <th>min</th>\n",
       "      <td>0.000000</td>\n",
       "      <td>1.000000</td>\n",
       "      <td>1.000000</td>\n",
       "      <td>0.000000</td>\n",
       "      <td>1.000000</td>\n",
       "      <td>1.000000</td>\n",
       "      <td>0.000000</td>\n",
       "      <td>0.000000</td>\n",
       "      <td>2.000000</td>\n",
       "      <td>1.000000</td>\n",
       "      <td>1.000000</td>\n",
       "      <td>1.000000</td>\n",
       "      <td>69134.126761</td>\n",
       "      <td>67411.000000</td>\n",
       "      <td>2006.000000</td>\n",
       "      <td>1.000000</td>\n",
       "      <td>1.000000</td>\n",
       "      <td>2.000000</td>\n",
       "      <td>1.000000</td>\n",
       "      <td>0.000000</td>\n",
       "    </tr>\n",
       "    <tr>\n",
       "      <th>25%</th>\n",
       "      <td>1284.250000</td>\n",
       "      <td>62.000000</td>\n",
       "      <td>10.000000</td>\n",
       "      <td>6.000000</td>\n",
       "      <td>5.000000</td>\n",
       "      <td>6.000000</td>\n",
       "      <td>0.000000</td>\n",
       "      <td>51.000000</td>\n",
       "      <td>33.000000</td>\n",
       "      <td>6.000000</td>\n",
       "      <td>1.000000</td>\n",
       "      <td>6.000000</td>\n",
       "      <td>88304.257143</td>\n",
       "      <td>83111.500000</td>\n",
       "      <td>2009.000000</td>\n",
       "      <td>5.000000</td>\n",
       "      <td>6.000000</td>\n",
       "      <td>7.000000</td>\n",
       "      <td>6.000000</td>\n",
       "      <td>5.000000</td>\n",
       "    </tr>\n",
       "    <tr>\n",
       "      <th>50%</th>\n",
       "      <td>2527.500000</td>\n",
       "      <td>865.000000</td>\n",
       "      <td>21.000000</td>\n",
       "      <td>11.000000</td>\n",
       "      <td>9.000000</td>\n",
       "      <td>11.000000</td>\n",
       "      <td>0.000000</td>\n",
       "      <td>56.000000</td>\n",
       "      <td>45.000000</td>\n",
       "      <td>11.000000</td>\n",
       "      <td>1.000000</td>\n",
       "      <td>11.000000</td>\n",
       "      <td>99149.490909</td>\n",
       "      <td>93344.000000</td>\n",
       "      <td>2012.000000</td>\n",
       "      <td>10.000000</td>\n",
       "      <td>12.000000</td>\n",
       "      <td>17.000000</td>\n",
       "      <td>11.000000</td>\n",
       "      <td>32.000000</td>\n",
       "    </tr>\n",
       "    <tr>\n",
       "      <th>75%</th>\n",
       "      <td>3712.000000</td>\n",
       "      <td>926.750000</td>\n",
       "      <td>813.000000</td>\n",
       "      <td>17.000000</td>\n",
       "      <td>14.000000</td>\n",
       "      <td>17.000000</td>\n",
       "      <td>6.000000</td>\n",
       "      <td>65.000000</td>\n",
       "      <td>54.000000</td>\n",
       "      <td>17.000000</td>\n",
       "      <td>1.000000</td>\n",
       "      <td>16.000000</td>\n",
       "      <td>108694.507870</td>\n",
       "      <td>102011.500000</td>\n",
       "      <td>2015.000000</td>\n",
       "      <td>15.000000</td>\n",
       "      <td>18.000000</td>\n",
       "      <td>27.000000</td>\n",
       "      <td>17.000000</td>\n",
       "      <td>96.000000</td>\n",
       "    </tr>\n",
       "    <tr>\n",
       "      <th>max</th>\n",
       "      <td>4934.000000</td>\n",
       "      <td>988.000000</td>\n",
       "      <td>843.000000</td>\n",
       "      <td>24.000000</td>\n",
       "      <td>24.000000</td>\n",
       "      <td>24.000000</td>\n",
       "      <td>50.000000</td>\n",
       "      <td>78.000000</td>\n",
       "      <td>78.000000</td>\n",
       "      <td>24.000000</td>\n",
       "      <td>67.000000</td>\n",
       "      <td>24.000000</td>\n",
       "      <td>507859.222222</td>\n",
       "      <td>297225.000000</td>\n",
       "      <td>2017.000000</td>\n",
       "      <td>21.000000</td>\n",
       "      <td>73.000000</td>\n",
       "      <td>99.000000</td>\n",
       "      <td>28.000000</td>\n",
       "      <td>397.000000</td>\n",
       "    </tr>\n",
       "  </tbody>\n",
       "</table>\n",
       "</div>"
      ],
      "text/plain": [
       "        Unnamed: 0       raceId     driverId         grid   position_x  \\\n",
       "count  5174.000000  5174.000000  5174.000000  5174.000000  4145.000000   \n",
       "mean   2492.891573   605.649594   292.905682    11.279861     9.343064   \n",
       "std    1408.390503   397.966612   377.670241     6.375831     5.337232   \n",
       "min       0.000000     1.000000     1.000000     0.000000     1.000000   \n",
       "25%    1284.250000    62.000000    10.000000     6.000000     5.000000   \n",
       "50%    2527.500000   865.000000    21.000000    11.000000     9.000000   \n",
       "75%    3712.000000   926.750000   813.000000    17.000000    14.000000   \n",
       "max    4934.000000   988.000000   843.000000    24.000000    24.000000   \n",
       "\n",
       "       positionOrder       points         laps   fastestLap   q_position  \\\n",
       "count    5174.000000  5174.000000  5174.000000  4910.000000  5152.000000   \n",
       "mean       11.384036     3.876401    52.076150    42.766395    11.289014   \n",
       "std         6.394437     6.327759    18.802338    16.509145     6.338210   \n",
       "min         1.000000     0.000000     0.000000     2.000000     1.000000   \n",
       "25%         6.000000     0.000000    51.000000    33.000000     6.000000   \n",
       "50%        11.000000     0.000000    56.000000    45.000000    11.000000   \n",
       "75%        17.000000     6.000000    65.000000    54.000000    17.000000   \n",
       "max        24.000000    50.000000    78.000000    78.000000    24.000000   \n",
       "\n",
       "               lap   position_y    meanlaptime    fastlaptime         year  \\\n",
       "count  4963.000000  4963.000000    4963.000000    4963.000000  5174.000000   \n",
       "mean      1.591981    10.948821  101794.951345   93403.250050  2011.675300   \n",
       "std       5.208447     6.189520   23127.560720   13092.821793     3.362226   \n",
       "min       1.000000     1.000000   69134.126761   67411.000000  2006.000000   \n",
       "25%       1.000000     6.000000   88304.257143   83111.500000  2009.000000   \n",
       "50%       1.000000    11.000000   99149.490909   93344.000000  2012.000000   \n",
       "75%       1.000000    16.000000  108694.507870  102011.500000  2015.000000   \n",
       "max      67.000000    24.000000  507859.222222  297225.000000  2017.000000   \n",
       "\n",
       "             round    circuitId       number          Pos          PTS  \n",
       "count  5174.000000  5174.000000  3365.000000  4820.000000  4820.000000  \n",
       "mean      9.953228    16.583881    23.649926    11.340664    71.073963  \n",
       "std       5.493871    17.721513    23.819498     6.722166    91.564087  \n",
       "min       1.000000     1.000000     2.000000     1.000000     0.000000  \n",
       "25%       5.000000     6.000000     7.000000     6.000000     5.000000  \n",
       "50%      10.000000    12.000000    17.000000    11.000000    32.000000  \n",
       "75%      15.000000    18.000000    27.000000    17.000000    96.000000  \n",
       "max      21.000000    73.000000    99.000000    28.000000   397.000000  "
      ]
     },
     "execution_count": 125,
     "metadata": {},
     "output_type": "execute_result"
    }
   ],
   "source": [
    "complete_race_level_data.describe()"
   ]
  },
  {
   "cell_type": "code",
   "execution_count": 126,
   "metadata": {},
   "outputs": [
    {
     "data": {
      "text/plain": [
       "354"
      ]
     },
     "execution_count": 126,
     "metadata": {},
     "output_type": "execute_result"
    }
   ],
   "source": [
    "complete_race_level_data['PTS'].isna().sum()"
   ]
  },
  {
   "cell_type": "code",
   "execution_count": 127,
   "metadata": {},
   "outputs": [],
   "source": [
    "complete_race_level_data.to_csv('project2_complete_race_level_data.csv')"
   ]
  },
  {
   "cell_type": "code",
   "execution_count": null,
   "metadata": {},
   "outputs": [],
   "source": []
  }
 ],
 "metadata": {
  "kernelspec": {
   "display_name": "Python 3",
   "language": "python",
   "name": "python3"
  },
  "language_info": {
   "codemirror_mode": {
    "name": "ipython",
    "version": 3
   },
   "file_extension": ".py",
   "mimetype": "text/x-python",
   "name": "python",
   "nbconvert_exporter": "python",
   "pygments_lexer": "ipython3",
   "version": "3.7.1"
  }
 },
 "nbformat": 4,
 "nbformat_minor": 2
}
