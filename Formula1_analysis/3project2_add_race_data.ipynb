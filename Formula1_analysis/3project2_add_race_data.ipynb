{
 "cells": [
  {
   "cell_type": "code",
   "execution_count": 34,
   "metadata": {},
   "outputs": [],
   "source": [
    "import pandas as pd\n",
    "import matplotlib.pyplot as plt\n",
    "import numpy as np\n",
    "import pandas as pd\n",
    "from sklearn import datasets\n",
    "import datetime\n",
    "  \n"
   ]
  },
  {
   "cell_type": "code",
   "execution_count": 35,
   "metadata": {},
   "outputs": [],
   "source": [
    "\n",
    "races = pd.read_csv('races.csv')\n",
    "df = pd.read_csv('laps_qual_result_trim.csv')"
   ]
  },
  {
   "cell_type": "code",
   "execution_count": 36,
   "metadata": {},
   "outputs": [
    {
     "name": "stdout",
     "output_type": "stream",
     "text": [
      "<class 'pandas.core.frame.DataFrame'>\n",
      "RangeIndex: 997 entries, 0 to 996\n",
      "Data columns (total 8 columns):\n",
      "raceId       997 non-null int64\n",
      "year         997 non-null int64\n",
      "round        997 non-null int64\n",
      "circuitId    997 non-null int64\n",
      "name         997 non-null object\n",
      "date         997 non-null object\n",
      "time         266 non-null object\n",
      "url          997 non-null object\n",
      "dtypes: int64(4), object(4)\n",
      "memory usage: 62.4+ KB\n"
     ]
    }
   ],
   "source": [
    "races.info()"
   ]
  },
  {
   "cell_type": "code",
   "execution_count": 37,
   "metadata": {},
   "outputs": [],
   "source": [
    "#races = pd.DataFrame(races[races.raceId > 840])"
   ]
  },
  {
   "cell_type": "code",
   "execution_count": 38,
   "metadata": {},
   "outputs": [
    {
     "data": {
      "text/plain": [
       "Unnamed: 0           0\n",
       "raceId               0\n",
       "driverId             0\n",
       "grid                 0\n",
       "position_x         995\n",
       "positionOrder        0\n",
       "points               0\n",
       "laps                 0\n",
       "fastestLap         253\n",
       "fastestLapSpeed    253\n",
       "q_position          21\n",
       "lap                200\n",
       "position_y         200\n",
       "meanlaptime        200\n",
       "fastlaptime        200\n",
       "dtype: int64"
      ]
     },
     "execution_count": 38,
     "metadata": {},
     "output_type": "execute_result"
    }
   ],
   "source": [
    "df.isna().sum()"
   ]
  },
  {
   "cell_type": "code",
   "execution_count": 39,
   "metadata": {},
   "outputs": [],
   "source": [
    "del df['Unnamed: 0']"
   ]
  },
  {
   "cell_type": "code",
   "execution_count": 40,
   "metadata": {},
   "outputs": [],
   "source": [
    "df1 = pd.merge(df, races, on = ['raceId'], how = 'left')"
   ]
  },
  {
   "cell_type": "code",
   "execution_count": 43,
   "metadata": {},
   "outputs": [],
   "source": [
    "df1.to_csv('laps_qual_result_races_trim.csv')"
   ]
  },
  {
   "cell_type": "code",
   "execution_count": 42,
   "metadata": {},
   "outputs": [
    {
     "data": {
      "text/plain": [
       "raceId               0\n",
       "driverId             0\n",
       "grid                 0\n",
       "position_x         995\n",
       "positionOrder        0\n",
       "points               0\n",
       "laps                 0\n",
       "fastestLap         253\n",
       "fastestLapSpeed    253\n",
       "q_position          21\n",
       "lap                200\n",
       "position_y         200\n",
       "meanlaptime        200\n",
       "fastlaptime        200\n",
       "year                 0\n",
       "round                0\n",
       "circuitId            0\n",
       "name                 0\n",
       "date                 0\n",
       "time                 0\n",
       "url                  0\n",
       "dtype: int64"
      ]
     },
     "execution_count": 42,
     "metadata": {},
     "output_type": "execute_result"
    }
   ],
   "source": [
    " df1.isna().sum()\n"
   ]
  },
  {
   "cell_type": "code",
   "execution_count": null,
   "metadata": {},
   "outputs": [],
   "source": []
  },
  {
   "cell_type": "code",
   "execution_count": null,
   "metadata": {},
   "outputs": [],
   "source": [
    "\n",
    "\n"
   ]
  },
  {
   "cell_type": "code",
   "execution_count": null,
   "metadata": {},
   "outputs": [],
   "source": []
  },
  {
   "cell_type": "code",
   "execution_count": null,
   "metadata": {},
   "outputs": [],
   "source": []
  }
 ],
 "metadata": {
  "kernelspec": {
   "display_name": "Python 3",
   "language": "python",
   "name": "python3"
  },
  "language_info": {
   "codemirror_mode": {
    "name": "ipython",
    "version": 3
   },
   "file_extension": ".py",
   "mimetype": "text/x-python",
   "name": "python",
   "nbconvert_exporter": "python",
   "pygments_lexer": "ipython3",
   "version": "3.7.1"
  }
 },
 "nbformat": 4,
 "nbformat_minor": 2
}
