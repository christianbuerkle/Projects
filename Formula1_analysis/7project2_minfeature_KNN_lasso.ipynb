{
 "cells": [
  {
   "cell_type": "markdown",
   "metadata": {},
   "source": [
    "# Validation Testing FancyImpute KNN Points"
   ]
  },
  {
   "cell_type": "code",
   "execution_count": 3,
   "metadata": {},
   "outputs": [],
   "source": [
    "import pandas as pd\n",
    "import numpy as np\n",
    "\n",
    "from sklearn.linear_model import LinearRegression, Lasso, Ridge, LassoCV, RidgeCV\n",
    "from sklearn.model_selection import KFold, train_test_split\n",
    "from sklearn.metrics import r2_score, mean_squared_error\n",
    "from sklearn.preprocessing import StandardScaler\n",
    "import seaborn as sns"
   ]
  },
  {
   "cell_type": "code",
   "execution_count": 6,
   "metadata": {},
   "outputs": [
    {
     "data": {
      "text/plain": [
       "(259, 26)"
      ]
     },
     "execution_count": 6,
     "metadata": {},
     "output_type": "execute_result"
    }
   ],
   "source": [
    "#add more rows, pit data doesnt matter\n",
    "\n",
    "df = pd.read_csv('project2_KNN_v1.csv')\n",
    "df.shape"
   ]
  },
  {
   "cell_type": "code",
   "execution_count": 7,
   "metadata": {},
   "outputs": [],
   "source": [
    "def stripp(row):\n",
    "    columns_clean = []\n",
    "    for string in row:   \n",
    "        columns_clean.append(string.lower())\n",
    "    return columns_clean"
   ]
  },
  {
   "cell_type": "code",
   "execution_count": 8,
   "metadata": {},
   "outputs": [
    {
     "data": {
      "text/plain": [
       "Index(['Unnamed: 0', 'grid3', 'positionorder3', 'points3', 'fastestlap3',\n",
       "       'fastestlapspeed3', 'qposition3', 'meanlaptime3', 'fastlaptime3',\n",
       "       'grid1', 'positionorder1', 'points1', 'fastestlap1', 'fastestlapspeed1',\n",
       "       'qposition1', 'meanlaptime1', 'fastlaptime1', 'grid2', 'positionorder2',\n",
       "       'points2', 'fastestlap2', 'fastestlapspeed2', 'qposition2',\n",
       "       'meanlaptime2', 'fastlaptime2', 'championship_points'],\n",
       "      dtype='object')"
      ]
     },
     "execution_count": 8,
     "metadata": {},
     "output_type": "execute_result"
    }
   ],
   "source": [
    "df.columns"
   ]
  },
  {
   "cell_type": "code",
   "execution_count": 9,
   "metadata": {},
   "outputs": [],
   "source": [
    "del df['Unnamed: 0']"
   ]
  },
  {
   "cell_type": "code",
   "execution_count": 41,
   "metadata": {},
   "outputs": [],
   "source": [
    "# columns = ['grid3', 'positionorder3', 'points3', 'fastestlap3', 'fastestlapspeed3',\n",
    "#        'qposition3', 'meanlaptime3', 'fastlaptime3', 'pos3', 'grid1',\n",
    "#        'positionorder1', 'points1', 'fastestlap1', 'fastestlapspeed1',\n",
    "#        'qposition1', 'meanlaptime1', 'fastlaptime1', 'pos1', 'grid2',\n",
    "#        'positionorder2', 'points2', 'fastestlapspeed2', 'qposition2',\n",
    "#        'meanlaptime2', 'fastlaptime2', 'pos2', 'points2.1']"
   ]
  },
  {
   "cell_type": "code",
   "execution_count": null,
   "metadata": {},
   "outputs": [],
   "source": [
    "#results from Third Lasso \n",
    "[('grid3', -0.0),\n",
    " ('positionorder3', -2.810245960905237),\n",
    " ('points3', 18.2756399466426),\n",
    " ('fastestlap3', -1.5523447512126671),\n",
    " ('fastestlapspeed3', -0.0),\n",
    " ('qposition3', -3.9982106441810097),\n",
    " ('meanlaptime3', -0.0),\n",
    " ('fastlaptime3', 0.0),\n",
    " ('grid1', -7.600246462262034),\n",
    " ('positionorder1', 2.843838615200502),\n",
    " ('points1', 20.236904761131292),\n",
    " ('fastestlap1', 9.88653131037434),\n",
    " ('fastestlapspeed1', -27.052323213143154),\n",
    " ('qposition1', -4.752167119652307),\n",
    " ('meanlaptime1', -29.404817599211345),\n",
    " ('fastlaptime1', 5.522146725587358),\n",
    " ('grid2', -0.0),\n",
    " ('positionorder2', -0.722654737317537),\n",
    " ('points2', 28.940704455600212),\n",
    " ('fastestlap2', 2.207375605078907),\n",
    " ('fastestlapspeed2', -0.2002376455514979),\n",
    " ('qposition2', -3.911843634928584),\n",
    " ('meanlaptime2', 2.6330110332413312),\n",
    " ('fastlaptime2', 1.0285480070305186)]"
   ]
  },
  {
   "cell_type": "code",
   "execution_count": null,
   "metadata": {},
   "outputs": [],
   "source": [
    "#results from second Lasso\n",
    "# [('grid3', -0.0),\n",
    "#  ('positionorder3', -2.8048291290740455),\n",
    "#  ('points3', 18.284532336533612),\n",
    "#  ('fastestlap3', -1.556703912954679),\n",
    "#  ('fastestlapspeed3', -4.011497298805268),\n",
    "#  ('qposition3', 0.0),\n",
    "#  ('meanlaptime3', -7.6016178967745285),\n",
    "#  ('fastlaptime3', 2.852369274603058),\n",
    "#  ('grid1', 20.254115116613118),\n",
    "#  ('positionorder1', 9.901987253800128),\n",
    "#  ('points1', -27.102761449293475),\n",
    "#  ('fastestlap1', -4.7349174888960155),\n",
    "#  ('fastestlapspeed1', -29.39632291425602),\n",
    "#  ('qposition1', 5.492329754783002),\n",
    "#  ('meanlaptime1', -0.7366033280550396),\n",
    "#  ('fastlaptime1', 28.93724483506633),\n",
    "#  ('grid2', 2.1944306552167676),\n",
    "#  ('positionorder2', -3.8930435168537634),\n",
    "#  ('points2', 2.639315009691421),\n",
    "#  ('fastestlap2', 1.199420487343717)]"
   ]
  },
  {
   "cell_type": "code",
   "execution_count": null,
   "metadata": {},
   "outputs": [],
   "source": [
    "#results from first Lasso run\n",
    "# [('grid3', -0.7486920151333999),\n",
    "#  ('positionorder3', -4.419784967844107),\n",
    "#  ('points3', 16.92320119559722),\n",
    "#  ('fastestlap3', -2.4712149964419936),\n",
    "#  ('fastestlapspeed3', -0.0),\n",
    "#  ('qposition3', -4.100105503671307),\n",
    "#  ('meanlaptime3', -0.0),\n",
    "#  ('fastlaptime3', 0.19646229764359066),\n",
    "#  ('grid1', -7.571327362313379),\n",
    "#  ('positionorder1', 6.7045948170832075),\n",
    "#  ('points1', 22.791466293340868),\n",
    "#  ('fastestlap1', 11.298647215835308),\n",
    "#  ('fastestlapspeed1', -27.939901862917985),\n",
    "#  ('qposition1', -4.953933748172263),\n",
    "#  ('meanlaptime1', -31.520519354952135),\n",
    "#  ('fastlaptime1', 7.04051534304135),\n",
    "#  ('grid2', -0.0),\n",
    "#  ('positionorder2', -1.1914576003078001),\n",
    "#  ('points2', 28.550164734425135),\n",
    "#  ('fastestlap2', 2.3047455815631683),\n",
    "#  ('fastestlapspeed2', -0.0),\n",
    "#  ('qposition2', -4.5080173643426),\n",
    "#  ('meanlaptime2', 2.8263063257960424),\n",
    "#  ('fastlaptime2', 1.51810340204526)]"
   ]
  },
  {
   "cell_type": "code",
   "execution_count": 555,
   "metadata": {},
   "outputs": [],
   "source": [
    "df2 = df1[['points3','points1', 'points2',\n",
    "       'championship_points']]"
   ]
  },
  {
   "cell_type": "code",
   "execution_count": 556,
   "metadata": {
    "scrolled": true
   },
   "outputs": [],
   "source": [
    "columns_clean = stripp(columns)"
   ]
  },
  {
   "cell_type": "code",
   "execution_count": 557,
   "metadata": {},
   "outputs": [],
   "source": [
    "# df.columns = columns_clean"
   ]
  },
  {
   "cell_type": "code",
   "execution_count": 558,
   "metadata": {},
   "outputs": [],
   "source": [
    "X, y = df.drop('championship_points',axis=1), df['championship_points']"
   ]
  },
  {
   "cell_type": "code",
   "execution_count": 559,
   "metadata": {},
   "outputs": [
    {
     "data": {
      "text/plain": [
       "(259, 24)"
      ]
     },
     "execution_count": 559,
     "metadata": {},
     "output_type": "execute_result"
    }
   ],
   "source": [
    "X.shape"
   ]
  },
  {
   "cell_type": "code",
   "execution_count": 560,
   "metadata": {},
   "outputs": [
    {
     "data": {
      "text/plain": [
       "(259,)"
      ]
     },
     "execution_count": 560,
     "metadata": {},
     "output_type": "execute_result"
    }
   ],
   "source": [
    "y.shape"
   ]
  },
  {
   "cell_type": "code",
   "execution_count": 10,
   "metadata": {},
   "outputs": [],
   "source": [
    "df1 = df[['points3', 'grid1','positionorder1','points1','fastestlap1','fastestlapspeed1',\n",
    " 'qposition1','meanlaptime1','fastlaptime1','points2', 'fastestlap2','qposition2', \n",
    " 'fastlaptime2','championship_points']]"
   ]
  },
  {
   "cell_type": "code",
   "execution_count": 11,
   "metadata": {},
   "outputs": [
    {
     "data": {
      "text/plain": [
       "(259, 14)"
      ]
     },
     "execution_count": 11,
     "metadata": {},
     "output_type": "execute_result"
    }
   ],
   "source": [
    "df1.shape"
   ]
  },
  {
   "cell_type": "code",
   "execution_count": 12,
   "metadata": {},
   "outputs": [],
   "source": [
    "X1, y1 = df1.drop('championship_points', axis=1), df1['championship_points']"
   ]
  },
  {
   "cell_type": "code",
   "execution_count": 13,
   "metadata": {},
   "outputs": [],
   "source": [
    "from sklearn.model_selection import train_test_split\n",
    "from sklearn.linear_model import LinearRegression, Ridge\n",
    "from sklearn.preprocessing import StandardScaler, PolynomialFeatures"
   ]
  },
  {
   "cell_type": "code",
   "execution_count": 14,
   "metadata": {},
   "outputs": [],
   "source": [
    "\n",
    "kf = KFold(n_splits=6,shuffle=True, random_state = 37)"
   ]
  },
  {
   "cell_type": "code",
   "execution_count": 15,
   "metadata": {},
   "outputs": [
    {
     "name": "stderr",
     "output_type": "stream",
     "text": [
      "/Users/christianbuerkle/anaconda3/lib/python3.7/site-packages/sklearn/model_selection/_search.py:841: DeprecationWarning: The default of the `iid` parameter will change from True to False in version 0.22 and will be removed in 0.24. This will change numeric results when test-set sizes are unequal.\n",
      "  DeprecationWarning)\n"
     ]
    }
   ],
   "source": [
    "lr_r2 = []\n",
    "l1_r2 = []\n",
    "l2_r2 = []\n",
    "\n",
    "lr_rmse = []\n",
    "l1_rmse = []\n",
    "l2_rmse = []\n",
    "\n",
    "alphavec = 10**np.linspace(0,20,20)\n",
    "\n",
    "for tr,te in kf.split(X1,y1):\n",
    "\n",
    "    \n",
    "    lr = LinearRegression()\n",
    "    l1 = LassoCV(alphas = alphavec, cv=kf)\n",
    "    l2 = RidgeCV(alphas = alphavec, cv=kf)\n",
    "    \n",
    "    X_tr,X_te = X1.iloc[tr] ,X1.iloc[te]\n",
    "    y_tr,y_te = y1.iloc[tr] ,y1.iloc[te]\n",
    "    \n",
    "    scale = StandardScaler()\n",
    "    scale.fit(X_tr)\n",
    "    \n",
    "    X_tr = scale.transform(X_tr)\n",
    "    X_te = scale.transform(X_te)\n",
    "    \n",
    "    lr.fit(X_tr,y_tr)\n",
    "\n",
    "    l1.fit(X_tr,y_tr)\n",
    "\n",
    "    l2.fit(X_tr,y_tr)\n",
    "    \n",
    "    lr_r2.append(r2_score(y_te,lr.predict(X_te)))\n",
    "    l1_r2.append(r2_score(y_te,l1.predict(X_te)))\n",
    "    l2_r2.append(r2_score(y_te,l2.predict(X_te)))\n",
    "    \n",
    "    l1_rmse.append(np.sqrt(mean_squared_error(y_te,l1.predict(X_te))))\n",
    "    l2_rmse.append(np.sqrt(mean_squared_error(y_te,l2.predict(X_te))))\n",
    "    lr_rmse.append(np.sqrt(mean_squared_error(y_te,lr.predict(X_te))))\n",
    "    \n",
    "    \n",
    "    \n",
    "    "
   ]
  },
  {
   "cell_type": "code",
   "execution_count": 16,
   "metadata": {},
   "outputs": [
    {
     "name": "stdout",
     "output_type": "stream",
     "text": [
      "0.7161472582970575\n",
      "0.716103508012727\n"
     ]
    }
   ],
   "source": [
    "from sklearn.model_selection import cross_val_score\n",
    "kf = KFold(n_splits=5, shuffle=True, random_state = 37)\n",
    "\n",
    "print(np.mean(cross_val_score(l1, X1, y1, cv=kf, scoring='r2')))\n",
    "print(np.mean(cross_val_score(lr, X1, y1, cv=kf, scoring='r2')))"
   ]
  },
  {
   "cell_type": "code",
   "execution_count": 17,
   "metadata": {},
   "outputs": [
    {
     "data": {
      "text/plain": [
       "1.0"
      ]
     },
     "execution_count": 17,
     "metadata": {},
     "output_type": "execute_result"
    }
   ],
   "source": [
    "l1.alpha_"
   ]
  },
  {
   "cell_type": "code",
   "execution_count": 18,
   "metadata": {},
   "outputs": [
    {
     "name": "stdout",
     "output_type": "stream",
     "text": [
      "[58.78906401640538, 35.97005696678172, 52.532366003302734, 53.77495365504976, 54.45954486417879, 34.52911315757594]\n"
     ]
    },
    {
     "data": {
      "text/plain": [
       "48.34251644388238"
      ]
     },
     "execution_count": 18,
     "metadata": {},
     "output_type": "execute_result"
    }
   ],
   "source": [
    "print(l1_rmse)\n",
    "np.mean(l1_rmse)"
   ]
  },
  {
   "cell_type": "code",
   "execution_count": 19,
   "metadata": {},
   "outputs": [
    {
     "name": "stdout",
     "output_type": "stream",
     "text": [
      "[57.96992570866189, 36.51421119836161, 52.772607673917435, 53.58903159730096, 53.35475419756225, 34.32015278980712]\n"
     ]
    },
    {
     "data": {
      "text/plain": [
       "48.08678052760188"
      ]
     },
     "execution_count": 19,
     "metadata": {},
     "output_type": "execute_result"
    }
   ],
   "source": [
    "print(l2_rmse)\n",
    "np.mean(l2_rmse)"
   ]
  },
  {
   "cell_type": "code",
   "execution_count": 20,
   "metadata": {},
   "outputs": [
    {
     "name": "stdout",
     "output_type": "stream",
     "text": [
      "[58.65062855569895, 36.078669039735225, 52.695418973177205, 53.24456146438784, 52.834038176676486, 36.395090855664684]\n"
     ]
    },
    {
     "data": {
      "text/plain": [
       "48.316401177556735"
      ]
     },
     "execution_count": 20,
     "metadata": {},
     "output_type": "execute_result"
    }
   ],
   "source": [
    "print(lr_rmse)\n",
    "np.mean(lr_rmse)"
   ]
  },
  {
   "cell_type": "code",
   "execution_count": 21,
   "metadata": {},
   "outputs": [
    {
     "name": "stdout",
     "output_type": "stream",
     "text": [
      "[0.5335763616142255, 0.8553888274941781, 0.7085948336324184, 0.7131791661937412, 0.6060984309258592, 0.7998999718728718]\n"
     ]
    },
    {
     "data": {
      "text/plain": [
       "0.7027895986222158"
      ]
     },
     "execution_count": 21,
     "metadata": {},
     "output_type": "execute_result"
    }
   ],
   "source": [
    "print(l1_r2)\n",
    "np.mean(l1_r2)"
   ]
  },
  {
   "cell_type": "code",
   "execution_count": 22,
   "metadata": {},
   "outputs": [
    {
     "name": "stdout",
     "output_type": "stream",
     "text": [
      "[0.5464836503660113, 0.8509803831187612, 0.7059234236315808, 0.7151590520154923, 0.6219180512539508, 0.8023145404233476]\n"
     ]
    },
    {
     "data": {
      "text/plain": [
       "0.7071298501348573"
      ]
     },
     "execution_count": 22,
     "metadata": {},
     "output_type": "execute_result"
    }
   ],
   "source": [
    "print(l2_r2)\n",
    "np.mean(l2_r2)"
   ]
  },
  {
   "cell_type": "code",
   "execution_count": 23,
   "metadata": {},
   "outputs": [
    {
     "name": "stdout",
     "output_type": "stream",
     "text": [
      "[0.5357704277622162, 0.8545141982292812, 0.7067830661254915, 0.7188091961341059, 0.6292618254947222, 0.7776885060328764]\n"
     ]
    },
    {
     "data": {
      "text/plain": [
       "0.7038045366297822"
      ]
     },
     "execution_count": 23,
     "metadata": {},
     "output_type": "execute_result"
    }
   ],
   "source": [
    "print(lr_r2)\n",
    "np.mean(lr_r2)"
   ]
  },
  {
   "cell_type": "code",
   "execution_count": 24,
   "metadata": {},
   "outputs": [
    {
     "data": {
      "text/plain": [
       "[('points3', 27.38137659377875),\n",
       " ('grid1', -7.188814731088941),\n",
       " ('positionorder1', 2.877205735665846),\n",
       " ('points1', 17.18777673995602),\n",
       " ('fastestlap1', 10.090729819348422),\n",
       " ('fastestlapspeed1', -18.83453600081937),\n",
       " ('qposition1', -6.5624140876601),\n",
       " ('meanlaptime1', -32.34670845833261),\n",
       " ('fastlaptime1', 18.417304681036136),\n",
       " ('points2', 28.70886339232057),\n",
       " ('fastestlap2', 2.407612833149049),\n",
       " ('qposition2', -5.716951600015675),\n",
       " ('fastlaptime2', 2.291736037104124)]"
      ]
     },
     "execution_count": 24,
     "metadata": {},
     "output_type": "execute_result"
    }
   ],
   "source": [
    "list(zip(df1.columns, l1.coef_))"
   ]
  },
  {
   "cell_type": "code",
   "execution_count": 25,
   "metadata": {},
   "outputs": [
    {
     "data": {
      "text/plain": [
       "[('points3', 25.633736185617348),\n",
       " ('grid1', -7.019443073422634),\n",
       " ('positionorder1', 6.064055103602416),\n",
       " ('points1', 18.904786330234217),\n",
       " ('fastestlap1', 10.937526636776342),\n",
       " ('fastestlapspeed1', -17.745305978252507),\n",
       " ('qposition1', -8.04643017839234),\n",
       " ('meanlaptime1', -29.451328023791525),\n",
       " ('fastlaptime1', 17.170204632212496),\n",
       " ('points2', 27.450426025867547),\n",
       " ('fastestlap2', 3.7011614311670913),\n",
       " ('qposition2', -7.970098010859637),\n",
       " ('fastlaptime2', 3.7455750157731544)]"
      ]
     },
     "execution_count": 25,
     "metadata": {},
     "output_type": "execute_result"
    }
   ],
   "source": [
    "list(zip(df1.columns, l2.coef_))"
   ]
  },
  {
   "cell_type": "code",
   "execution_count": 26,
   "metadata": {},
   "outputs": [
    {
     "data": {
      "text/plain": [
       "[('points3', 26.95811205425672),\n",
       " ('grid1', -6.788175239349375),\n",
       " ('positionorder1', 8.808068951228403),\n",
       " ('points1', 21.09941472357927),\n",
       " ('fastestlap1', 12.568185902246764),\n",
       " ('fastestlapspeed1', -20.641035007934384),\n",
       " ('qposition1', -8.302275861446107),\n",
       " ('meanlaptime1', -38.66993693804589),\n",
       " ('fastlaptime1', 23.115926030830238),\n",
       " ('points2', 28.64378131084276),\n",
       " ('fastestlap2', 2.412350227628647),\n",
       " ('qposition2', -6.611337097824821),\n",
       " ('fastlaptime2', 2.3021499030998416)]"
      ]
     },
     "execution_count": 26,
     "metadata": {},
     "output_type": "execute_result"
    }
   ],
   "source": [
    "list(zip(df1.columns, lr.coef_))"
   ]
  },
  {
   "cell_type": "code",
   "execution_count": 223,
   "metadata": {},
   "outputs": [
    {
     "data": {
      "image/png": "[encoded data removed]",
      "text/plain": [
       "<Figure size 720x720 with 20 Axes>"
      ]
     },
     "metadata": {
      "needs_background": "light"
     },
     "output_type": "display_data"
    }
   ],
   "source": [
    "#plot = sns.pairplot(df);\n",
    "# plot.savefig(\"pairplots.svg\")"
   ]
  },
  {
   "cell_type": "code",
   "execution_count": 707,
   "metadata": {},
   "outputs": [],
   "source": [
    "l1resids = y_te - l1.predict(X_te)"
   ]
  },
  {
   "cell_type": "code",
   "execution_count": 708,
   "metadata": {},
   "outputs": [
    {
     "data": {
      "text/plain": [
       "<matplotlib.axes._subplots.AxesSubplot at 0x1a21543f28>"
      ]
     },
     "execution_count": 708,
     "metadata": {},
     "output_type": "execute_result"
    },
    {
     "data": {
      "image/png": "[encoded data removed]",
      "text/plain": [
       "<Figure size 432x288 with 1 Axes>"
      ]
     },
     "metadata": {
      "needs_background": "light"
     },
     "output_type": "display_data"
    }
   ],
   "source": [
    "sns.scatterplot(l1.predict(X_te), l1resids)"
   ]
  },
  {
   "cell_type": "code",
   "execution_count": 709,
   "metadata": {},
   "outputs": [],
   "source": [
    "l2resids = y_te - l2.predict(X_te)"
   ]
  },
  {
   "cell_type": "code",
   "execution_count": 710,
   "metadata": {},
   "outputs": [
    {
     "data": {
      "text/plain": [
       "<matplotlib.axes._subplots.AxesSubplot at 0x1a21674c88>"
      ]
     },
     "execution_count": 710,
     "metadata": {},
     "output_type": "execute_result"
    },
    {
     "data": {
      "image/png": "[encoded data removed]",
      "text/plain": [
       "<Figure size 432x288 with 1 Axes>"
      ]
     },
     "metadata": {
      "needs_background": "light"
     },
     "output_type": "display_data"
    }
   ],
   "source": [
    "sns.scatterplot(l2.predict(X_te), l2resids)"
   ]
  },
  {
   "cell_type": "code",
   "execution_count": 711,
   "metadata": {},
   "outputs": [],
   "source": [
    "lrresids = y_te - lr.predict(X_te)"
   ]
  },
  {
   "cell_type": "code",
   "execution_count": 712,
   "metadata": {},
   "outputs": [
    {
     "data": {
      "text/plain": [
       "<matplotlib.axes._subplots.AxesSubplot at 0x1a21432a90>"
      ]
     },
     "execution_count": 712,
     "metadata": {},
     "output_type": "execute_result"
    },
    {
     "data": {
      "image/png": "[encoded data removed]",
      "text/plain": [
       "<Figure size 432x288 with 1 Axes>"
      ]
     },
     "metadata": {
      "needs_background": "light"
     },
     "output_type": "display_data"
    }
   ],
   "source": [
    "sns.scatterplot(lr.predict(X_te), lrresids)"
   ]
  },
  {
   "cell_type": "code",
   "execution_count": 279,
   "metadata": {},
   "outputs": [],
   "source": [
    "df.to_csv('f1_2006_2017_model_KNN_v1.1.csv')"
   ]
  }
 ],
 "metadata": {
  "kernelspec": {
   "display_name": "Python 3",
   "language": "python",
   "name": "python3"
  },
  "language_info": {
   "codemirror_mode": {
    "name": "ipython",
    "version": 3
   },
   "file_extension": ".py",
   "mimetype": "text/x-python",
   "name": "python",
   "nbconvert_exporter": "python",
   "pygments_lexer": "ipython3",
   "version": "3.7.1"
  }
 },
 "nbformat": 4,
 "nbformat_minor": 2
}
